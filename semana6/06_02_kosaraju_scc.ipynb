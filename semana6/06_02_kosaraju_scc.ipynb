{
  "nbformat": 4,
  "nbformat_minor": 0,
  "metadata": {
    "colab": {
      "provenance": [],
      "collapsed_sections": []
    },
    "kernelspec": {
      "name": "python3",
      "display_name": "Python 3"
    },
    "language_info": {
      "name": "python"
    }
  },
  "cells": [
    {
      "cell_type": "markdown",
      "source": [
        "## Componentes fuertemente conexos (SCC) - Algoritmo de Kosaraju"
      ],
      "metadata": {
        "id": "lpV-Oaidzzw9"
      }
    },
    {
      "cell_type": "code",
      "execution_count": 1,
      "metadata": {
        "id": "LNulRumNyxXg"
      },
      "outputs": [],
      "source": [
        "import graphviz as gv"
      ]
    },
    {
      "cell_type": "code",
      "source": [
        "def reverseGraph(G):\n",
        "  n = len(G)\n",
        "  Grev = [[] for _ in range(n)]\n",
        "\n",
        "  for u in range(n):\n",
        "    for v in G[u]:\n",
        "      Grev[v].append(u)\n",
        "\n",
        "  return Grev"
      ],
      "metadata": {
        "id": "n4buCanoy6e5"
      },
      "execution_count": 2,
      "outputs": []
    },
    {
      "cell_type": "code",
      "source": [
        "def dfs(G, u, lst, visited):\n",
        "  visited[u] = True\n",
        "  for v in G[u]:\n",
        "    if not visited[v]:\n",
        "      dfs(G, v, lst, visited)\n",
        "\n",
        "  lst.append(u)"
      ],
      "metadata": {
        "id": "iTAi-eSBy8kQ"
      },
      "execution_count": 3,
      "outputs": []
    },
    {
      "cell_type": "code",
      "source": [
        "def kosaraju(G):\n",
        "  n = len(G)\n",
        "  visited = [False]*n\n",
        "  f = []\n",
        "\n",
        "  Grev = reverseGraph(G)            # Paso 1\n",
        "\n",
        "  for u in range(n):                # Paso 2\n",
        "    if not visited[u]:\n",
        "      dfs(Grev, u, f, visited)\n",
        "\n",
        "  visited = [False]*n               # Paso 3\n",
        "  scc = []\n",
        "  for u in reversed(f):\n",
        "    if not visited[u]:\n",
        "      cc = []\n",
        "      dfs(G, u, cc, visited)\n",
        "      scc.append(cc)\n",
        "\n",
        "  return scc"
      ],
      "metadata": {
        "id": "bpdsRUiPzEgI"
      },
      "execution_count": 4,
      "outputs": []
    },
    {
      "cell_type": "code",
      "source": [
        "%%file 1.in\n",
        "-\n",
        "4\n",
        "8\n",
        "6\n",
        "7\n",
        "2\n",
        "9\n",
        "1\n",
        "5 6\n",
        "3 7"
      ],
      "metadata": {
        "colab": {
          "base_uri": "https://localhost:8080/"
        },
        "id": "_k-3caCozLrw",
        "outputId": "1b7060a9-681c-42e2-8716-baa9ccdb8ba3"
      },
      "execution_count": 5,
      "outputs": [
        {
          "output_type": "stream",
          "name": "stdout",
          "text": [
            "Writing 1.in\n"
          ]
        }
      ]
    },
    {
      "cell_type": "code",
      "source": [
        "with open(\"1.in\") as f:\n",
        "  G = []\n",
        "  for line in f:\n",
        "    if line == \"-\\n\":\n",
        "      G.append([])\n",
        "    else:\n",
        "      G.append([int(x) for x in line.split()])\n",
        "\n",
        "print(G)"
      ],
      "metadata": {
        "colab": {
          "base_uri": "https://localhost:8080/"
        },
        "id": "f7VzXErmzQDo",
        "outputId": "44f73c09-c7b9-4df9-f0a3-999adf73d3b7"
      },
      "execution_count": 6,
      "outputs": [
        {
          "output_type": "stream",
          "name": "stdout",
          "text": [
            "[[], [4], [8], [6], [7], [2], [9], [1], [5, 6], [3, 7]]\n"
          ]
        }
      ]
    },
    {
      "cell_type": "code",
      "source": [
        "def show(G, labels=None, directed=False, weighted=False, path=[], layout=\"sfdp\"):\n",
        "  g = gv.Digraph(\"direccionado\") if directed else gv.Graph(\"no-direccionado\")\n",
        "  g.graph_attr[\"layout\"] = layout\n",
        "  g.edge_attr[\"color\"] = \"gray\"\n",
        "  g.edge_attr[\"fontsize\"] = \"8\"\n",
        "  g.node_attr[\"color\"] = \"orangered\"\n",
        "  g.node_attr[\"width\"] = \"0.1\"\n",
        "  g.node_attr[\"height\"] = \"0.1\"\n",
        "  g.node_attr[\"fontsize\"] = \"8\"\n",
        "  g.node_attr[\"fontcolor\"] = \"mediumslateblue\"\n",
        "  n = len(G)\n",
        "\n",
        "  for u in range(n):\n",
        "    g.node(str(u), labels[u] if labels else str(u))\n",
        "\n",
        "  added = set()\n",
        "  for v, u in enumerate(path):\n",
        "    if u >= 0:\n",
        "      if weighted:\n",
        "        for vi, w in G[u]:\n",
        "          if vi == v:\n",
        "            break\n",
        "\n",
        "        g.edge(str(u), str(v), str(w), dir=\"forward\", penwidt=\"2\", color=\"orange\")\n",
        "      else:\n",
        "        g.edge(str(u), str(v), dir=\"forward\", penwidt=\"2\", color=\"orange\")\n",
        "\n",
        "      added.add(f\"{u}->{v}\")\n",
        "      added.add(f\"{v}->{u}\")\n",
        "  if weighted:\n",
        "    for u in range(n):\n",
        "      for v, w in G[u]:\n",
        "        if not directed and not f\"{u}->{v}\" in added:\n",
        "          added.add(f\"{u}->{v}\")\n",
        "          added.add(f\"{v}->{u}\")\n",
        "          g.edge(str(u), str(v), str(w))\n",
        "        elif directed:\n",
        "          g.edge(str(u), str(v), str(w))\n",
        "  else:\n",
        "    for u in range(n):\n",
        "      for v in G[u]:\n",
        "        if not directed and not f\"{u}->{v}\" in added:\n",
        "          added.add(f\"{u}->{v}\")\n",
        "          added.add(f\"{v}->{u}\")\n",
        "          g.edge(str(u), str(v))\n",
        "        elif directed:\n",
        "          g.edge(str(u), str(v))\n",
        "  return g"
      ],
      "metadata": {
        "id": "B8H5j05zzWJB"
      },
      "execution_count": 7,
      "outputs": []
    },
    {
      "cell_type": "code",
      "source": [
        "show(G, directed=True)"
      ],
      "metadata": {
        "colab": {
          "base_uri": "https://localhost:8080/",
          "height": 200
        },
        "id": "c3r49YoEzkXF",
        "outputId": "99147393-442c-4887-a62e-113c2a73487f"
      },
      "execution_count": 8,
      "outputs": [
        {
          "output_type": "execute_result",
          "data": {
            "text/plain": [
              "<graphviz.dot.Digraph at 0x7fb6e4f86750>"
            ],
            "image/svg+xml": "<?xml version=\"1.0\" encoding=\"UTF-8\" standalone=\"no\"?>\n<!DOCTYPE svg PUBLIC \"-//W3C//DTD SVG 1.1//EN\"\n \"http://www.w3.org/Graphics/SVG/1.1/DTD/svg11.dtd\">\n<!-- Generated by graphviz version 2.40.1 (20161225.0304)\n -->\n<!-- Title: direccionado Pages: 1 -->\n<svg width=\"424pt\" height=\"134pt\"\n viewBox=\"0.00 0.00 424.13 134.04\" xmlns=\"http://www.w3.org/2000/svg\" xmlns:xlink=\"http://www.w3.org/1999/xlink\">\n<g id=\"graph0\" class=\"graph\" transform=\"scale(1 1) rotate(0) translate(4 130.0416)\">\n<title>direccionado</title>\n<polygon fill=\"#ffffff\" stroke=\"transparent\" points=\"-4,4 -4,-130.0416 420.1346,-130.0416 420.1346,4 -4,4\"/>\n<!-- 0 -->\n<g id=\"node1\" class=\"node\">\n<title>0</title>\n<ellipse fill=\"none\" stroke=\"#ff4500\" cx=\"286.8492\" cy=\"-114.0208\" rx=\"14.7\" ry=\"12.0417\"/>\n<text text-anchor=\"middle\" x=\"286.8492\" y=\"-112.1208\" font-family=\"Times,serif\" font-size=\"8.00\" fill=\"#7b68ee\">0</text>\n</g>\n<!-- 1 -->\n<g id=\"node2\" class=\"node\">\n<title>1</title>\n<ellipse fill=\"none\" stroke=\"#ff4500\" cx=\"14.8492\" cy=\"-53.4937\" rx=\"14.7\" ry=\"12.0417\"/>\n<text text-anchor=\"middle\" x=\"14.8492\" y=\"-51.5937\" font-family=\"Times,serif\" font-size=\"8.00\" fill=\"#7b68ee\">1</text>\n</g>\n<!-- 4 -->\n<g id=\"node5\" class=\"node\">\n<title>4</title>\n<ellipse fill=\"none\" stroke=\"#ff4500\" cx=\"19.4072\" cy=\"-12.0208\" rx=\"14.7\" ry=\"12.0417\"/>\n<text text-anchor=\"middle\" x=\"19.4072\" y=\"-10.1208\" font-family=\"Times,serif\" font-size=\"8.00\" fill=\"#7b68ee\">4</text>\n</g>\n<!-- 1&#45;&gt;4 -->\n<g id=\"edge1\" class=\"edge\">\n<title>1&#45;&gt;4</title>\n<path fill=\"none\" stroke=\"#c0c0c0\" d=\"M16.1921,-41.2748C16.4447,-38.9765 16.7159,-36.5093 16.9897,-34.0177\"/>\n<polygon fill=\"#c0c0c0\" stroke=\"#c0c0c0\" points=\"20.4761,-34.3321 18.0896,-24.0095 13.518,-33.5673 20.4761,-34.3321\"/>\n</g>\n<!-- 2 -->\n<g id=\"node3\" class=\"node\">\n<title>2</title>\n<ellipse fill=\"none\" stroke=\"#ff4500\" cx=\"401.2853\" cy=\"-53.5048\" rx=\"14.7\" ry=\"12.0417\"/>\n<text text-anchor=\"middle\" x=\"401.2853\" y=\"-51.6048\" font-family=\"Times,serif\" font-size=\"8.00\" fill=\"#7b68ee\">2</text>\n</g>\n<!-- 8 -->\n<g id=\"node9\" class=\"node\">\n<title>8</title>\n<ellipse fill=\"none\" stroke=\"#ff4500\" cx=\"339.7665\" cy=\"-38.9417\" rx=\"14.7\" ry=\"12.0417\"/>\n<text text-anchor=\"middle\" x=\"339.7665\" y=\"-37.0417\" font-family=\"Times,serif\" font-size=\"8.00\" fill=\"#7b68ee\">8</text>\n</g>\n<!-- 2&#45;&gt;8 -->\n<g id=\"edge2\" class=\"edge\">\n<title>2&#45;&gt;8</title>\n<path fill=\"none\" stroke=\"#c0c0c0\" d=\"M387.0171,-50.1271C380.2819,-48.5328 372.0492,-46.5838 364.3539,-44.7622\"/>\n<polygon fill=\"#c0c0c0\" stroke=\"#c0c0c0\" points=\"364.9219,-41.3 354.3846,-42.4022 363.3094,-48.1117 364.9219,-41.3\"/>\n</g>\n<!-- 3 -->\n<g id=\"node4\" class=\"node\">\n<title>3</title>\n<ellipse fill=\"none\" stroke=\"#ff4500\" cx=\"208.0999\" cy=\"-77.3388\" rx=\"14.7\" ry=\"12.0417\"/>\n<text text-anchor=\"middle\" x=\"208.0999\" y=\"-75.4388\" font-family=\"Times,serif\" font-size=\"8.00\" fill=\"#7b68ee\">3</text>\n</g>\n<!-- 6 -->\n<g id=\"node7\" class=\"node\">\n<title>6</title>\n<ellipse fill=\"none\" stroke=\"#ff4500\" cx=\"251.0784\" cy=\"-47.9194\" rx=\"14.7\" ry=\"12.0417\"/>\n<text text-anchor=\"middle\" x=\"251.0784\" y=\"-46.0194\" font-family=\"Times,serif\" font-size=\"8.00\" fill=\"#7b68ee\">6</text>\n</g>\n<!-- 3&#45;&gt;6 -->\n<g id=\"edge3\" class=\"edge\">\n<title>3&#45;&gt;6</title>\n<path fill=\"none\" stroke=\"#c0c0c0\" d=\"M219.8439,-69.2998C223.4074,-66.8606 227.4244,-64.1109 231.3615,-61.4159\"/>\n<polygon fill=\"#c0c0c0\" stroke=\"#c0c0c0\" points=\"233.3707,-64.2821 239.6456,-55.7453 229.4167,-58.5057 233.3707,-64.2821\"/>\n</g>\n<!-- 7 -->\n<g id=\"node8\" class=\"node\">\n<title>7</title>\n<ellipse fill=\"none\" stroke=\"#ff4500\" cx=\"76.5839\" cy=\"-38.9865\" rx=\"14.7\" ry=\"12.0417\"/>\n<text text-anchor=\"middle\" x=\"76.5839\" y=\"-37.0865\" font-family=\"Times,serif\" font-size=\"8.00\" fill=\"#7b68ee\">7</text>\n</g>\n<!-- 4&#45;&gt;7 -->\n<g id=\"edge4\" class=\"edge\">\n<title>4&#45;&gt;7</title>\n<path fill=\"none\" stroke=\"#c0c0c0\" d=\"M32.3815,-18.1397C38.8877,-21.2082 46.9504,-25.0108 54.4011,-28.5247\"/>\n<polygon fill=\"#c0c0c0\" stroke=\"#c0c0c0\" points=\"53.1234,-31.7917 63.6609,-32.8918 56.1093,-25.4605 53.1234,-31.7917\"/>\n</g>\n<!-- 5 -->\n<g id=\"node6\" class=\"node\">\n<title>5</title>\n<ellipse fill=\"none\" stroke=\"#ff4500\" cx=\"396.7733\" cy=\"-12.0371\" rx=\"14.7\" ry=\"12.0417\"/>\n<text text-anchor=\"middle\" x=\"396.7733\" y=\"-10.1371\" font-family=\"Times,serif\" font-size=\"8.00\" fill=\"#7b68ee\">5</text>\n</g>\n<!-- 5&#45;&gt;2 -->\n<g id=\"edge5\" class=\"edge\">\n<title>5&#45;&gt;2</title>\n<path fill=\"none\" stroke=\"#c0c0c0\" d=\"M398.1026,-24.2545C398.3527,-26.5524 398.6211,-29.0193 398.8922,-31.5106\"/>\n<polygon fill=\"#c0c0c0\" stroke=\"#c0c0c0\" points=\"395.4198,-31.9549 399.981,-41.5176 402.3787,-31.1976 395.4198,-31.9549\"/>\n</g>\n<!-- 9 -->\n<g id=\"node10\" class=\"node\">\n<title>9</title>\n<ellipse fill=\"none\" stroke=\"#ff4500\" cx=\"165.2096\" cy=\"-47.8993\" rx=\"14.7\" ry=\"12.0417\"/>\n<text text-anchor=\"middle\" x=\"165.2096\" y=\"-45.9993\" font-family=\"Times,serif\" font-size=\"8.00\" fill=\"#7b68ee\">9</text>\n</g>\n<!-- 6&#45;&gt;9 -->\n<g id=\"edge6\" class=\"edge\">\n<title>6&#45;&gt;9</title>\n<path fill=\"none\" stroke=\"#c0c0c0\" d=\"M236.1212,-47.9159C223.5161,-47.9129 205.2125,-47.9087 190.3588,-47.9052\"/>\n<polygon fill=\"#c0c0c0\" stroke=\"#c0c0c0\" points=\"190.2843,-44.4053 180.2835,-47.9028 190.2826,-51.4053 190.2843,-44.4053\"/>\n</g>\n<!-- 7&#45;&gt;1 -->\n<g id=\"edge7\" class=\"edge\">\n<title>7&#45;&gt;1</title>\n<path fill=\"none\" stroke=\"#c0c0c0\" d=\"M62.2655,-42.3512C55.43,-43.9575 47.0572,-45.9251 39.2598,-47.7574\"/>\n<polygon fill=\"#c0c0c0\" stroke=\"#c0c0c0\" points=\"38.4528,-44.3516 29.5186,-50.0465 40.0541,-51.166 38.4528,-44.3516\"/>\n</g>\n<!-- 8&#45;&gt;5 -->\n<g id=\"edge8\" class=\"edge\">\n<title>8&#45;&gt;5</title>\n<path fill=\"none\" stroke=\"#c0c0c0\" d=\"M352.7022,-32.8366C359.1162,-29.8095 367.0474,-26.0663 374.4058,-22.5935\"/>\n<polygon fill=\"#c0c0c0\" stroke=\"#c0c0c0\" points=\"376.3392,-25.5513 383.8887,-18.118 373.3515,-19.2209 376.3392,-25.5513\"/>\n</g>\n<!-- 8&#45;&gt;6 -->\n<g id=\"edge9\" class=\"edge\">\n<title>8&#45;&gt;6</title>\n<path fill=\"none\" stroke=\"#c0c0c0\" d=\"M324.7218,-40.4646C311.3907,-41.8141 291.665,-43.8109 275.9833,-45.3983\"/>\n<polygon fill=\"#c0c0c0\" stroke=\"#c0c0c0\" points=\"275.4976,-41.9295 265.901,-46.4189 276.2027,-48.8939 275.4976,-41.9295\"/>\n</g>\n<!-- 9&#45;&gt;3 -->\n<g id=\"edge10\" class=\"edge\">\n<title>9&#45;&gt;3</title>\n<path fill=\"none\" stroke=\"#c0c0c0\" d=\"M176.9295,-55.9438C180.4856,-58.3847 184.4944,-61.1362 188.4234,-63.8331\"/>\n<polygon fill=\"#c0c0c0\" stroke=\"#c0c0c0\" points=\"186.4651,-66.7341 196.6905,-69.5076 190.4265,-60.9628 186.4651,-66.7341\"/>\n</g>\n<!-- 9&#45;&gt;7 -->\n<g id=\"edge11\" class=\"edge\">\n<title>9&#45;&gt;7</title>\n<path fill=\"none\" stroke=\"#c0c0c0\" d=\"M150.1754,-46.3874C136.8537,-45.0477 117.1419,-43.0653 101.4712,-41.4893\"/>\n<polygon fill=\"#c0c0c0\" stroke=\"#c0c0c0\" points=\"101.696,-37.9944 91.396,-40.4761 100.9955,-44.9593 101.696,-37.9944\"/>\n</g>\n</g>\n</svg>\n"
          },
          "metadata": {},
          "execution_count": 8
        }
      ]
    },
    {
      "cell_type": "code",
      "source": [
        "kosaraju(G)"
      ],
      "metadata": {
        "colab": {
          "base_uri": "https://localhost:8080/"
        },
        "id": "Lz6zUvB5zmsx",
        "outputId": "a6222d8e-03a4-43a2-c807-d30659052106"
      },
      "execution_count": 9,
      "outputs": [
        {
          "output_type": "execute_result",
          "data": {
            "text/plain": [
              "[[7, 4, 1], [6, 3, 9], [2, 5, 8], [0]]"
            ]
          },
          "metadata": {},
          "execution_count": 9
        }
      ]
    }
  ]
}