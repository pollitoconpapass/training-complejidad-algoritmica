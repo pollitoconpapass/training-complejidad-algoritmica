{
 "cells": [
  {
   "cell_type": "code",
   "execution_count": null,
   "metadata": {},
   "outputs": [
    {
     "name": "stdout",
     "output_type": "stream",
     "text": [
      "Numero de rounds: 5\n",
      "[12, 30, 32, 45, 78, 90]\n"
     ]
    }
   ],
   "source": [
    "# Ejercicio 1\n",
    "# Implemente el ordenamiento por burbuja (Bubble Sort), para un arreglo de entrada.\n",
    "\n",
    "def bubble_sort(arr: list[int])-> list[int]:\n",
    "    long = len(arr)\n",
    "    rounds = 0\n",
    "    temp = 0\n",
    "\n",
    "    for i in range(long):\n",
    "        rounds += 1\n",
    "        flag = False\n",
    "\n",
    "        for j in range(long - i - 1): # -> reduce el tamaño del arreglo, dado que cuando se compare los mayores ya estaran al final de la lista\n",
    "            if(arr[j] > arr[j+1]):\n",
    "                flag = True\n",
    "\n",
    "                temp = arr[j]       # temp = a\n",
    "                arr[j] = arr[j+1]   # a = b\n",
    "                arr[j+1] = temp     # b = temp\n",
    "\n",
    "        if not flag: # -> al nunca acceder al if, flag sigue siendo false, lo que significa que el arreglo ya esta ordenado\n",
    "            break\n",
    "\n",
    "    print(f\"Numero de rounds: {rounds}\")\n",
    "\n",
    "    return arr\n",
    "\n",
    "\n",
    "# MAIN\n",
    "arr = [32, 12, 78, 90, 45, 30]\n",
    "print(bubble_sort(arr))"
   ]
  },
  {
   "cell_type": "code",
   "execution_count": 11,
   "metadata": {},
   "outputs": [
    {
     "name": "stdout",
     "output_type": "stream",
     "text": [
      "3\n",
      "2\n",
      "1\n",
      "\n",
      "Resultado final: 102\n"
     ]
    }
   ],
   "source": [
    "# Ejercicio 2\n",
    "# Dado un polinomio y un valor de entrada x_0 calcule p(x_0)\n",
    "def polinomio(x: int)-> int:\n",
    "    total = 0\n",
    "    cont = x\n",
    "\n",
    "    while cont > 0:\n",
    "        total += (cont * (x ** cont))\n",
    "        print(cont)\n",
    "        cont -= 1\n",
    "\n",
    "    return total\n",
    "\n",
    "print(f\"\\nResultado final: {polinomio(3)}\")\n"
   ]
  },
  {
   "cell_type": "code",
   "execution_count": null,
   "metadata": {},
   "outputs": [
    {
     "name": "stdout",
     "output_type": "stream",
     "text": [
      "Solution found\n",
      "D -> 7\n",
      "E -> 5\n",
      "M -> 1\n",
      "N -> 6\n",
      "O -> 0\n",
      "R -> 8\n",
      "S -> 9\n",
      "Y -> 2\n",
      "9567 + 1085 = 10652\n",
      "{'D': 7, 'E': 5, 'M': 1, 'N': 6, 'O': 0, 'R': 8, 'S': 9, 'Y': 2}\n"
     ]
    }
   ],
   "source": [
    "# Ejercicio 3\n",
    "# Implementar solucion para el problema del criptoaritmo\n",
    "# 3.1 Usando Fuerza Bruta\n",
    "import itertools, re\n",
    "\n",
    "def crypto_brute_force(equation: str):\n",
    "    # First find unique values\n",
    "    words = re.findall(r'[A-Z]+', equation.upper())\n",
    "    unique_letters = sorted(set(''.join(words)))\n",
    "    if len(unique_letters) > 10:\n",
    "        return None\n",
    "    \n",
    "    # Then find all possible permutations\n",
    "    digits = range(10)\n",
    "    first_letters = set(word[0] for word in words) # -> the first letter cannot be 0\n",
    "\n",
    "    for perm in itertools.permutations(digits, len(unique_letters)):\n",
    "        letter_digit = dict(zip(unique_letters, perm))\n",
    "\n",
    "        if any(letter_digit[word[0]] == 0 for word in words): # -> check another time if there are leading 0s\n",
    "            continue\n",
    "\n",
    "        numbers = []\n",
    "        for word in words:\n",
    "            num = int(''.join(str(letter_digit[letter]) for letter in word))\n",
    "            numbers.append(num)\n",
    "\n",
    "        if sum(numbers[:-1]) == numbers[-1]:\n",
    "            print(\"Solution found\")\n",
    "\n",
    "            for key, value in letter_digit.items():\n",
    "                print(f\"{key} -> {value}\")\n",
    "\n",
    "            print(f\"{' + '.join(str(n) for n in numbers[:-1])} = {numbers[-1]}\")\n",
    "            return letter_digit\n",
    "\n",
    "    return None\n",
    "\n",
    "\n",
    "print(crypto_brute_force(\"SEND + MORE = MONEY\"))\n",
    "\n",
    "\n",
    "# 3.2 Usando Backtracking\n",
    "def crypto_backtracking():\n",
    "    pass\n",
    "    "
   ]
  }
 ],
 "metadata": {
  "kernelspec": {
   "display_name": "Python 3",
   "language": "python",
   "name": "python3"
  },
  "language_info": {
   "codemirror_mode": {
    "name": "ipython",
    "version": 3
   },
   "file_extension": ".py",
   "mimetype": "text/x-python",
   "name": "python",
   "nbconvert_exporter": "python",
   "pygments_lexer": "ipython3",
   "version": "3.12.2"
  }
 },
 "nbformat": 4,
 "nbformat_minor": 2
}
