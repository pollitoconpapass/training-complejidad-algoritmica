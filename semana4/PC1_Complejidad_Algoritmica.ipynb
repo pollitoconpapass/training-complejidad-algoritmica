{
  "cells": [
    {
      "cell_type": "code",
      "execution_count": 1,
      "metadata": {
        "colab": {
          "base_uri": "https://localhost:8080/"
        },
        "id": "OntAkdI6B-hm",
        "outputId": "e29c96cc-b3d3-4407-80fa-33404206c1e1"
      },
      "outputs": [
        {
          "name": "stdout",
          "output_type": "stream",
          "text": [
            "True\n"
          ]
        }
      ],
      "source": [
        "# Pregunta 4:\n",
        "def desplazamiento_de_cadenas2(s: str, objetivo: str):\n",
        "  if (len(s) != len(objetivo)):\n",
        "    return False\n",
        "\n",
        "  s_freq = {}\n",
        "  for char in s:\n",
        "    s_freq[char] = s_freq.get(char, 0) + 1\n",
        "\n",
        "  objetivo_freq = {}\n",
        "  for char in objetivo:\n",
        "    objetivo_freq[char] = objetivo_freq.get(char, 0) + 1\n",
        "\n",
        "  return s_freq == objetivo_freq\n",
        "\n",
        "\n",
        "print(desplazamiento_de_cadenas2(\"abcde\", \"bcdea\"))"
      ]
    },
    {
      "cell_type": "code",
      "execution_count": 2,
      "metadata": {
        "colab": {
          "base_uri": "https://localhost:8080/"
        },
        "id": "aBLP7pUAFil5",
        "outputId": "68c67bf5-0c00-4580-85de-738bc3a01f7e"
      },
      "outputs": [
        {
          "name": "stdout",
          "output_type": "stream",
          "text": [
            "!aloH\n"
          ]
        }
      ],
      "source": [
        "# Pregunta 5\n",
        "def revierte_cadena(palabra: str):\n",
        "  if(len(palabra) == 1):\n",
        "    return palabra\n",
        "\n",
        "  return revierte_cadena(palabra[1:]) + palabra[0]\n",
        "\n",
        "print(revierte_cadena(\"Hola!\"))"
      ]
    }
  ],
  "metadata": {
    "colab": {
      "provenance": []
    },
    "kernelspec": {
      "display_name": "Python 3",
      "name": "python3"
    },
    "language_info": {
      "codemirror_mode": {
        "name": "ipython",
        "version": 3
      },
      "file_extension": ".py",
      "mimetype": "text/x-python",
      "name": "python",
      "nbconvert_exporter": "python",
      "pygments_lexer": "ipython3",
      "version": "3.12.2"
    }
  },
  "nbformat": 4,
  "nbformat_minor": 0
}
