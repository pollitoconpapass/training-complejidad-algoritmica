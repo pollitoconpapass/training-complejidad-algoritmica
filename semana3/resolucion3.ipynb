{
 "cells": [
  {
   "cell_type": "code",
   "execution_count": 3,
   "metadata": {},
   "outputs": [
    {
     "name": "stdout",
     "output_type": "stream",
     "text": [
      "Usando algoritmo simple\n",
      "31\n",
      "\n",
      "Usando algoritmo divide y vencerás\n",
      "31\n"
     ]
    }
   ],
   "source": [
    "# Ejercicio 1 - Elemento maximo de un arreglo\n",
    "# a) Escriba un algoritmo “simple” para calcular este problema.\n",
    "def simple_algorithm(arr: list[int]) -> int:\n",
    "    return max(arr)\n",
    "\n",
    "print(\"Usando algoritmo simple\")\n",
    "print(simple_algorithm([1, 2, 31, 4, 5, 20]))\n",
    "\n",
    "\n",
    "# b) Escriba un algoritmo “divide y vencerás” para calcular este problema.\n",
    "def dyv_algorithm(arr: list[int]) -> int:\n",
    "    if len(arr) == 1:\n",
    "        return arr[0]\n",
    "\n",
    "    mid = len(arr) // 2\n",
    "    left = arr[:mid]\n",
    "    right = arr[mid:]\n",
    "\n",
    "    return max(dyv_algorithm(left), dyv_algorithm(right))\n",
    "\n",
    "print(\"\\nUsando algoritmo divide y vencerás\")\n",
    "print(dyv_algorithm([1, 2, 31, 4, 5, 20]))\n",
    "    "
   ]
  },
  {
   "cell_type": "code",
   "execution_count": 10,
   "metadata": {},
   "outputs": [
    {
     "name": "stdout",
     "output_type": "stream",
     "text": [
      "Numero de palabras: 4\n"
     ]
    }
   ],
   "source": [
    "# Ejercicio 2 - Dado un texto t de n líneas, implementar un algoritmo “divide y vencerás” que cuente el número de palabras\n",
    "# que contiene dicho texto.\n",
    "\n",
    "def count_algorithm_dyv(text: str) -> int:\n",
    "    text_lines = text.splitlines()\n",
    "\n",
    "    if len(text_lines) == 0:\n",
    "        return 0\n",
    "\n",
    "    if len(text_lines) == 1:\n",
    "        return len(text_lines[0].split())\n",
    "\n",
    "    else: \n",
    "        mid = len(text_lines) // 2\n",
    "        \n",
    "        left = count_algorithm_dyv('\\n'.join(text_lines[:mid]))\n",
    "        right = count_algorithm_dyv('\\n'.join(text_lines[mid:]))\n",
    "    \n",
    "        return left + right\n",
    "\n",
    "\n",
    "text = \"hola mundo como estas\"\n",
    "\n",
    "print(f\"Numero de palabras: {count_algorithm_dyv(text)}\")"
   ]
  },
  {
   "cell_type": "code",
   "execution_count": 12,
   "metadata": {},
   "outputs": [
    {
     "name": "stdout",
     "output_type": "stream",
     "text": [
      "Sorted array is: [1, 5, 7, 8, 9, 10]\n"
     ]
    }
   ],
   "source": [
    "# Ejercicio 3 - Implementar algoritmo QuickSort\n",
    "def partition(arr: list[int], start: int, end: int) -> int:\n",
    "    pivot = arr[start]\n",
    "    low = start + 1\n",
    "    high = end\n",
    "\n",
    "    while True:\n",
    "        while low <= high and arr[high] >= pivot:\n",
    "            high = high - 1\n",
    "\n",
    "        while low <= high and arr[low] <= pivot:\n",
    "            low = low + 1\n",
    "\n",
    "        if low <= high:\n",
    "            arr[low], arr[high] = arr[high], arr[low]\n",
    "        else:\n",
    "            break\n",
    "\n",
    "    arr[start], arr[high] = arr[high], arr[start]\n",
    "    return high\n",
    "\n",
    "\n",
    "def quicksort(arr: list[int], start: int, end: int) -> None:\n",
    "    if start >= end:\n",
    "        return\n",
    "\n",
    "    p = partition(arr, start, end)\n",
    "    quicksort(arr, start, p - 1)\n",
    "    quicksort(arr, p + 1, end)\n",
    "\n",
    "\n",
    "arr = [10, 7, 8, 9, 1, 5]\n",
    "quicksort(arr, 0, len(arr) - 1)\n",
    "print(\"Sorted array is:\", arr)"
   ]
  }
 ],
 "metadata": {
  "kernelspec": {
   "display_name": "Python 3",
   "language": "python",
   "name": "python3"
  },
  "language_info": {
   "codemirror_mode": {
    "name": "ipython",
    "version": 3
   },
   "file_extension": ".py",
   "mimetype": "text/x-python",
   "name": "python",
   "nbconvert_exporter": "python",
   "pygments_lexer": "ipython3",
   "version": "3.12.2"
  }
 },
 "nbformat": 4,
 "nbformat_minor": 2
}
