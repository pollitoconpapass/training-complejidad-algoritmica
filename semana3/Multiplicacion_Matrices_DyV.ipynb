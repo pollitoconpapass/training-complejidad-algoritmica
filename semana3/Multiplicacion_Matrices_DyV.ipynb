{
  "cells": [
    {
      "cell_type": "markdown",
      "metadata": {
        "id": "7R3Ax8b6VRmu"
      },
      "source": [
        "# **DIVIDE Y VENCERAS: Multiplicación de Matrices**"
      ]
    },
    {
      "cell_type": "code",
      "execution_count": 1,
      "metadata": {
        "id": "3WN7SogNVLRx"
      },
      "outputs": [],
      "source": [
        "import numpy as np"
      ]
    },
    {
      "cell_type": "markdown",
      "metadata": {
        "id": "HK8jM1ndiAG0"
      },
      "source": [
        "## Multiplicacion de matrices utilizando la funcion matmul de la libreria numpy \n",
        "\n",
        "(explicacion en Python https://appdividend.com/2022/02/17/np-matmul/)"
      ]
    },
    {
      "cell_type": "code",
      "execution_count": 12,
      "metadata": {
        "id": "XSl0kLInVbKB"
      },
      "outputs": [],
      "source": [
        "#Funcion que recibe dos vectores y retorna un vector con su multiplicacion.  Matmul es una funcion de la libreria numpy\n",
        "def matmul(a, b):\n",
        "  aRows, aCols = a.shape\n",
        "  bRows, bCols = b.shape\n",
        "  if aCols != bRows:\n",
        "    return None\n",
        "\n",
        "  c = np.zeros((aRows, bCols))\n",
        "\n",
        "  for i in range(aRows):\n",
        "    for j in range(bCols):\n",
        "      temp = 0\n",
        "      for k in range(aCols):\n",
        "        temp += a[i, k] * b[k, j]\n",
        "\n",
        "      c[i, j] = temp\n",
        "\n",
        "  return c"
      ]
    },
    {
      "cell_type": "code",
      "execution_count": 13,
      "metadata": {
        "colab": {
          "base_uri": "https://localhost:8080/"
        },
        "id": "aJDCirhjVr0a",
        "outputId": "a2b82ce5-8d45-406f-9f02-803769a8320d"
      },
      "outputs": [
        {
          "name": "stdout",
          "output_type": "stream",
          "text": [
            "[[2 9 7 6]\n",
            " [9 9 7 7]\n",
            " [9 1 8 4]]\n",
            "[[7 5]\n",
            " [6 4]\n",
            " [9 5]\n",
            " [5 2]]\n"
          ]
        }
      ],
      "source": [
        "# Creamos dos vectores con numeros aleatorios (entre 0 y 10)\n",
        "# el vector a con 3 filas y 4 columnas\n",
        "# el vector b con 4 filas y 2 columnas\n",
        "a = np.random.randint(10, size=(3, 4))\n",
        "b = np.random.randint(10, size=(4, 2))\n",
        "\n",
        "print(a)\n",
        "print(b)"
      ]
    },
    {
      "cell_type": "code",
      "execution_count": 15,
      "metadata": {
        "colab": {
          "base_uri": "https://localhost:8080/"
        },
        "id": "iJ1vkCaFV665",
        "outputId": "64bd49ba-8bea-425c-89d4-66fb15c99dc2"
      },
      "outputs": [
        {
          "name": "stdout",
          "output_type": "stream",
          "text": [
            "[[161.  93.]\n",
            " [215. 130.]\n",
            " [161.  97.]]\n"
          ]
        }
      ],
      "source": [
        "c = matmul(a, b)\n",
        "assert c.all() == np.matmul(a, b).all()\n",
        "print(c)"
      ]
    },
    {
      "cell_type": "markdown",
      "metadata": {
        "id": "Ls97Eyh-iMLh"
      },
      "source": [
        "## Multiplicacion de matrices desarrollando una funcion recursiva."
      ]
    },
    {
      "cell_type": "code",
      "execution_count": 16,
      "metadata": {
        "id": "2kx1CTB8Wj1Q"
      },
      "outputs": [],
      "source": [
        "# Multiplicar a y c.  El resultado guardarlo en c.  Los parametros i y j parten de 0.  Los parametros ii y jj inician con la logitud de la matriz a - 1\n",
        "def matmul(a, b, c, i, ii, j, jj):\n",
        "  if i == ii:\n",
        "    temp = 0\n",
        "    for k in range(len(a)):\n",
        "      temp += a[i][k] * b[k][j]\n",
        "    c[i][j] = temp\n",
        "  else:\n",
        "    imid = (i + ii) // 2\n",
        "    jmid = (j + jj) // 2\n",
        "    matmul(a, b, c,        i, imid,        j, jmid)\n",
        "    matmul(a, b, c, imid + 1,   ii,        j, jmid)\n",
        "    matmul(a, b, c,        i, imid, jmid + 1, jj)\n",
        "    matmul(a, b, c, imid + 1,   ii, jmid + 1, jj)"
      ]
    },
    {
      "cell_type": "code",
      "execution_count": 17,
      "metadata": {
        "colab": {
          "base_uri": "https://localhost:8080/"
        },
        "id": "bNs0mBosinm2",
        "outputId": "c59068fb-2be4-41a5-ed30-b11c44477c33"
      },
      "outputs": [
        {
          "name": "stdout",
          "output_type": "stream",
          "text": [
            "[[5 3 4 6 0 4 8 4]\n",
            " [7 6 9 4 4 1 3 4]\n",
            " [3 0 4 2 7 4 6 0]\n",
            " [6 9 9 9 1 9 1 1]\n",
            " [5 5 5 0 1 0 7 2]\n",
            " [3 9 4 7 8 3 1 0]\n",
            " [3 3 0 3 2 7 7 0]\n",
            " [0 4 7 6 6 3 7 0]]\n",
            "[[0 4 0 1 9 2 5 0]\n",
            " [5 1 4 5 3 8 1 0]\n",
            " [8 7 8 8 5 0 0 4]\n",
            " [5 1 9 6 6 1 0 0]\n",
            " [7 1 1 3 6 0 7 9]\n",
            " [2 8 8 6 4 5 6 4]\n",
            " [5 9 5 4 0 7 2 2]\n",
            " [4 9 2 1 7 9 8 1]]\n"
          ]
        }
      ],
      "source": [
        "# Matrices a y b random de 8x8 con numeros entre 0 y 8\n",
        "a = np.random.randint(10, size=(8, 8))\n",
        "b = np.random.randint(10, size=(8, 8))\n",
        "print(a)\n",
        "print(b)"
      ]
    },
    {
      "cell_type": "code",
      "execution_count": 18,
      "metadata": {
        "colab": {
          "base_uri": "https://localhost:8080/"
        },
        "id": "hgMgwc-hiyFm",
        "outputId": "e264b5d6-ce27-4cf0-9168-da4329a937a9"
      },
      "outputs": [
        {
          "name": "stdout",
          "output_type": "stream",
          "text": [
            "[[141. 197. 178. 148. 154. 152. 100.  52.]\n",
            " [183. 176. 167. 167. 206. 128. 113.  86.]\n",
            " [129. 135. 119. 116. 117.  70. 100. 107.]\n",
            " [196. 196. 269. 239. 229. 154. 110.  84.]\n",
            " [115. 142. 100. 103. 105. 117.  67.  45.]\n",
            " [179.  97. 168. 168. 176. 107. 100. 102.]\n",
            " [ 93. 139. 132. 112.  94. 117.  88.  60.]\n",
            " [189. 152. 191. 176. 131. 102.  78. 108.]]\n"
          ]
        }
      ],
      "source": [
        "#Obtenemos en la matriz c la multiplicacion de las matrices a y b\n",
        "#Para que usamos assert? shorturl.at/fgKV9\n",
        "\n",
        "c = np.zeros((8, 8))\n",
        "matmul(a, b, c, 0, len(a) - 1, 0, len(a) - 1)\n",
        "assert (c == np.matmul(a, b)).all()\n",
        "print(c)"
      ]
    }
  ],
  "metadata": {
    "colab": {
      "collapsed_sections": [],
      "name": "03-03-DC-Multiplicacion-Matrices.ipynb",
      "provenance": []
    },
    "kernelspec": {
      "display_name": "Python 3",
      "name": "python3"
    },
    "language_info": {
      "name": "python"
    }
  },
  "nbformat": 4,
  "nbformat_minor": 0
}
