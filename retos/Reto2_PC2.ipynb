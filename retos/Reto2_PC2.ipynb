{
  "nbformat": 4,
  "nbformat_minor": 0,
  "metadata": {
    "colab": {
      "provenance": []
    },
    "kernelspec": {
      "name": "python3",
      "display_name": "Python 3"
    },
    "language_info": {
      "name": "python"
    }
  },
  "cells": [
    {
      "cell_type": "markdown",
      "source": [
        "## Ejercicio 1"
      ],
      "metadata": {
        "id": "JlmuMUHunzFI"
      }
    },
    {
      "cell_type": "code",
      "source": [
        "from collections import defaultdict\n",
        "import networkx as nx\n",
        "import matplotlib.pyplot as plt"
      ],
      "metadata": {
        "id": "2xsn3lM4nXYk"
      },
      "execution_count": null,
      "outputs": []
    },
    {
      "cell_type": "code",
      "execution_count": null,
      "metadata": {
        "id": "trPrPnwOm7F6"
      },
      "outputs": [],
      "source": [
        "class Graph:\n",
        "  def __init__(self, nodes):\n",
        "    self.graph = defaultdict(dict)\n",
        "    self.nodes = nodes\n",
        "    self.node_map = {node: i for i, node in enumerate(nodes)}\n",
        "    self.reverse_node_map = {i: node for i, node in enumerate(nodes)}\n",
        "    self.graph_matrix = [[0] * len(nodes) for _ in range(len(nodes))]\n",
        "\n",
        "  def add_edge(self, u, v, capacity):\n",
        "        u_idx = self.node_map[u]\n",
        "        v_idx = self.node_map[v]\n",
        "        self.graph_matrix[u_idx][v_idx] = capacity\n",
        "\n",
        "\n",
        "  def bfs(self, s, t, parent):\n",
        "        visited = [False] * len(self.nodes)\n",
        "        queue = []\n",
        "        queue.append(s)\n",
        "        visited[s] = True\n",
        "\n",
        "        while queue:\n",
        "            u = queue.pop(0)\n",
        "            for ind in range(len(self.nodes)):\n",
        "                if visited[ind] is False and self.graph_matrix[u][ind] > 0:\n",
        "                    queue.append(ind)\n",
        "                    visited[ind] = True\n",
        "                    parent[ind] = u\n",
        "\n",
        "        return True if visited[t] else False\n",
        "\n",
        "  def ford_fulkerson(self, source, sink):\n",
        "        source_idx = self.node_map[source]\n",
        "        sink_idx = self.node_map[sink]\n",
        "\n",
        "        parent = [-1] * len(self.nodes)\n",
        "        max_flow = 0\n",
        "\n",
        "        while self.bfs(source_idx, sink_idx, parent):\n",
        "            path_flow = float(\"Inf\")\n",
        "            s = sink_idx\n",
        "            while(s != source_idx):\n",
        "                path_flow = min(path_flow, self.graph_matrix[parent[s]][s])\n",
        "                s = parent[s]\n",
        "\n",
        "            max_flow += path_flow\n",
        "            v = sink_idx\n",
        "            while(v != source_idx):\n",
        "                u = parent[v]\n",
        "                self.graph_matrix[u][v] -= path_flow\n",
        "                self.graph_matrix[v][u] += path_flow\n",
        "                v = parent[v]\n",
        "\n",
        "        return max_flow\n"
      ]
    },
    {
      "cell_type": "code",
      "source": [
        "nodos = ['A', 'B', 'C', 'D', 'E', 'F']\n",
        "capacidades = [\n",
        "    ('A', 'B', 10), ('A', 'C', 15), ('B', 'C', 2), ('B', 'D', 4),\n",
        "    ('B', 'E', 8), ('C', 'E', 9), ('D', 'F', 10), ('E', 'D', 16),\n",
        "    ('E', 'F', 10)\n",
        "]\n",
        "\n",
        "g = Graph(nodos)\n",
        "for u, v, capacidad in capacidades:\n",
        "    g.add_edge(u, v, capacidad)\n",
        "\n",
        "inicio = 'A'\n",
        "destino = 'F'\n",
        "flujo_maximo = g.ford_fulkerson(inicio, destino)\n",
        "print(f\"Flujo maximo desde {inicio} hasta {destino}: {flujo_maximo}\")"
      ],
      "metadata": {
        "colab": {
          "base_uri": "https://localhost:8080/"
        },
        "id": "5pX_4eOLn4vb",
        "outputId": "1f4e3eb0-079e-4291-abbd-568bf5b15d5a"
      },
      "execution_count": null,
      "outputs": [
        {
          "output_type": "stream",
          "name": "stdout",
          "text": [
            "Flujo maximo desde A hasta F: 19\n"
          ]
        }
      ]
    },
    {
      "cell_type": "markdown",
      "source": [
        "## Ejercicio 2"
      ],
      "metadata": {
        "id": "GwTMTogDo6ke"
      }
    },
    {
      "cell_type": "code",
      "source": [
        "nodos_ej_2 = ['s', '1', '2', '3', '4', '5', 't']\n",
        "capacidades_ej2 = [\n",
        "    ('s', '1', 8), ('s', '3', 5), ('s', '2', 9),\n",
        "    ('1', '4', 6), ('3', '1', 4), ('2', '3', 7),\n",
        "    ('3', '4', 2), ('3', '5', 6), ('2', '5', 5),\n",
        "    ('4', '5', 4), ('4', 't', 11), ('5', 't', 13)\n",
        "]\n",
        "\n",
        "g2 = Graph(nodos_ej_2)\n",
        "for u, v, capacidad in capacidades_ej2:\n",
        "    g2.add_edge(u, v, capacidad)\n",
        "\n",
        "\n",
        "inicio_2 = 's'\n",
        "destino_2 = 't'\n",
        "flujo_maximo_2 = g2.ford_fulkerson(inicio_2, destino_2)\n",
        "print(f\"Flujo maximo desde {inicio_2} hasta {destino_2}: {flujo_maximo_2}\")"
      ],
      "metadata": {
        "colab": {
          "base_uri": "https://localhost:8080/"
        },
        "id": "eArPXhero7pV",
        "outputId": "94a23c0d-c8e0-4a2d-f2f0-0005e68157d5"
      },
      "execution_count": null,
      "outputs": [
        {
          "output_type": "stream",
          "name": "stdout",
          "text": [
            "Flujo maximo desde s hasta t: 19\n"
          ]
        }
      ]
    },
    {
      "cell_type": "code",
      "source": [
        "# Representacion de la corrida\n",
        "G_nx = nx.DiGraph()\n",
        "\n",
        "for u, v, capacidad in capacidades_ej2:\n",
        "    G_nx.add_edge(u, v, capacity=capacidad)\n",
        "\n",
        "pos = {\n",
        "    's': (0, 0),\n",
        "    '1': (1, 1),\n",
        "    '2': (1, -1),\n",
        "    '3': (2, 0),\n",
        "    '4': (3, 1),\n",
        "    '5': (3, -1),\n",
        "    't': (4, 0)\n",
        "}\n",
        "\n",
        "plt.figure(figsize=(8, 6))\n",
        "nx.draw(G_nx, pos, with_labels=True, node_size=700, node_color='skyblue', font_size=10, arrowsize=20)\n",
        "\n",
        "edge_labels = nx.get_edge_attributes(G_nx, 'capacity')\n",
        "nx.draw_networkx_edge_labels(G_nx, pos, edge_labels=edge_labels, font_color='red')\n",
        "\n",
        "plt.title(\"Grafo con algoritmo Ford-Fulkerson\")\n",
        "plt.show()\n"
      ],
      "metadata": {
        "colab": {
          "base_uri": "https://localhost:8080/",
          "height": 659
        },
        "id": "gz4VbyVdqk8N",
        "outputId": "82d22b4a-46ad-49da-a913-be1d87c3b176"
      },
      "execution_count": null,
      "outputs": [
        {
          "output_type": "display_data",
          "data": {
            "text/plain": [
              "<Figure size 800x600 with 1 Axes>"
            ],
            "image/png": "[encoded data removed]"
          },
          "metadata": {}
        }
      ]
    }
  ]
}