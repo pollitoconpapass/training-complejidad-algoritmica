{
  "nbformat": 4,
  "nbformat_minor": 0,
  "metadata": {
    "colab": {
      "provenance": []
    },
    "kernelspec": {
      "name": "python3",
      "display_name": "Python 3"
    },
    "language_info": {
      "name": "python"
    }
  },
  "cells": [
    {
      "cell_type": "code",
      "source": [
        "# Sin DyV\n",
        "def sistema_aire(arr: list[int], valor_objetivo: int) -> list:\n",
        "  lista_resultante = []\n",
        "  for i in arr:\n",
        "    for j in arr:\n",
        "      if i + j == valor_objetivo:\n",
        "        if {i, j} not in lista_resultante and i != j:\n",
        "          lista_resultante.append({i, j})\n",
        "\n",
        "  return lista_resultante\n",
        "\n",
        "\n",
        "# === MAIN ===\n",
        "lista = [1, 5, 7, -1, 6, 3, 4, 2]\n",
        "valor_objetivo = 6\n",
        "print(sistema_aire(lista, valor_objetivo))\n"
      ],
      "metadata": {
        "colab": {
          "base_uri": "https://localhost:8080/"
        },
        "id": "EtrfnPbClPKR",
        "outputId": "f09799dd-77fe-4273-8bac-ec997d6bc766"
      },
      "execution_count": 5,
      "outputs": [
        {
          "output_type": "stream",
          "name": "stdout",
          "text": [
            "Los numeros que cumplen son: 1 + 5\n",
            "Los numeros que cumplen son: 7 + -1\n",
            "Los numeros que cumplen son: 4 + 2\n",
            "[{1, 5}, {-1, 7}, {2, 4}]\n"
          ]
        }
      ]
    },
    {
      "cell_type": "code",
      "source": [
        "# Con DyV\n",
        "def sistema_aire_dyv(arr: list[int], valor_objetivo: int)-> list:\n",
        "  if (len(arr) < 2):\n",
        "    return []\n",
        "\n",
        "\n",
        "  mid = len(arr) // 2\n",
        "  left = arr[:mid]\n",
        "  right = arr[mid:]\n",
        "\n",
        "  left_result = sistema_aire_dyv(left, valor_objetivo)\n",
        "  right_result = sistema_aire_dyv(right, valor_objetivo)\n",
        "\n",
        "  lista_resultante = left_result + right_result\n",
        "\n",
        "  for i in left:\n",
        "    for j in right:\n",
        "      if i + j == valor_objetivo:\n",
        "        if {i, j} not in lista_resultante:\n",
        "          lista_resultante.append({i, j})\n",
        "\n",
        "\n",
        "  return lista_resultante\n",
        "\n",
        "# === MAIN ===\n",
        "lista = [1, 5, 7, -1, 6, 3, 4, 2]\n",
        "valor_objetivo = 6\n",
        "resultado = sistema_aire_dyv(lista, valor_objetivo)\n",
        "\n",
        "print(f\"\\nEl numero de pares que suman {valor_objetivo} son: {len(resultado)}\")\n",
        "print(f\"Los pares de sensores son: {resultado}\")\n"
      ],
      "metadata": {
        "colab": {
          "base_uri": "https://localhost:8080/"
        },
        "id": "U-W4gn1gmM_9",
        "outputId": "163fe6ad-5078-45e9-af84-895166bb992d"
      },
      "execution_count": 18,
      "outputs": [
        {
          "output_type": "stream",
          "name": "stdout",
          "text": [
            "\n",
            "El numero de pares que suman 6 son: 3\n",
            "Los pares de sensores son: [{1, 5}, {-1, 7}, {2, 4}]\n"
          ]
        }
      ]
    }
  ]
}