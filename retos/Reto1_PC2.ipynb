{
  "nbformat": 4,
  "nbformat_minor": 0,
  "metadata": {
    "colab": {
      "provenance": []
    },
    "kernelspec": {
      "name": "python3",
      "display_name": "Python 3"
    },
    "language_info": {
      "name": "python"
    }
  },
  "cells": [
    {
      "cell_type": "markdown",
      "source": [
        "## Pregunta 1: Kruskal"
      ],
      "metadata": {
        "id": "T5ypfj1qGh0r"
      }
    },
    {
      "cell_type": "code",
      "source": [
        "class Kruskal:\n",
        "  def __init__(self, vertices):\n",
        "    self.V = vertices\n",
        "    self.grafo = []\n",
        "\n",
        "  def agregar_aristas(self, u, v, w):\n",
        "    self.grafo.append([u, v, w])\n",
        "\n",
        "  def find(self, padre, i):\n",
        "    if padre[i] == i:\n",
        "      return i\n",
        "    return self.find(padre, padre[i])\n",
        "\n",
        "  def union(self, padre, rango, x, y):\n",
        "    raiz_x = self.find(padre, x)\n",
        "    raiz_y = self.find(padre, y)\n",
        "\n",
        "    if raiz_x != raiz_y:\n",
        "        if rango[raiz_x] < rango[raiz_y]:\n",
        "            padre[raiz_x] = raiz_y\n",
        "        elif rango[raiz_x] > rango[raiz_y]:\n",
        "            padre[raiz_y] = raiz_x\n",
        "        else:\n",
        "            padre[raiz_y] = raiz_x\n",
        "            rango[raiz_x] += 1\n",
        "\n",
        "        return True\n",
        "\n",
        "    return False\n",
        "\n",
        "  def kruskal(self):\n",
        "    resultado = []\n",
        "    i = 0\n",
        "    e = 0\n",
        "\n",
        "    self.grafo = sorted(self.grafo, key=lambda item: item[2])\n",
        "\n",
        "    padre = []\n",
        "    rango = []\n",
        "\n",
        "    for nodo in range(self.V):\n",
        "      padre.append(nodo)\n",
        "      rango.append(0)\n",
        "\n",
        "    while e < self.V -1 and i < len(self.grafo):\n",
        "      u, v, w = self.grafo[i]\n",
        "      i += 1\n",
        "\n",
        "      raiz_u = self.find(padre, u)\n",
        "      raiz_v = self.find(padre, v)\n",
        "\n",
        "      if raiz_u != raiz_v:\n",
        "        e += 1\n",
        "        resultado.append([u, v, w])\n",
        "        self.union(padre, rango, raiz_u, raiz_v)\n",
        "\n",
        "    for u, v, peso in resultado:\n",
        "      print(f\"{u} -- {v} == {peso}\")"
      ],
      "metadata": {
        "id": "Dj09O6V5E8P6"
      },
      "execution_count": null,
      "outputs": []
    },
    {
      "cell_type": "code",
      "execution_count": null,
      "metadata": {
        "colab": {
          "base_uri": "https://localhost:8080/"
        },
        "id": "lVAygJiKEYRG",
        "outputId": "fe07b4eb-0e57-43c2-b486-6181f43c3f05"
      },
      "outputs": [
        {
          "output_type": "stream",
          "name": "stdout",
          "text": [
            "Resultado final:\n",
            "3 -- 5 == 1\n",
            "2 -- 4 == 2\n",
            "1 -- 2 == 3\n",
            "2 -- 3 == 4\n",
            "0 -- 1 == 7\n"
          ]
        }
      ],
      "source": [
        "g = Kruskal(6)\n",
        "g.agregar_aristas(0, 1, 7) # 0 -- 1 == 7\n",
        "g.agregar_aristas(0, 2, 8)\n",
        "g.agregar_aristas(1, 2, 3)\n",
        "g.agregar_aristas(1, 3, 6)\n",
        "g.agregar_aristas(2, 3, 4)\n",
        "g.agregar_aristas(2, 4, 2)\n",
        "g.agregar_aristas(3, 4, 5)\n",
        "g.agregar_aristas(3, 5, 1)\n",
        "g.agregar_aristas(4, 5, 4) # 4 -- 5 == 4\n",
        "\n",
        "print(\"Resultado final:\")\n",
        "g.kruskal()"
      ]
    },
    {
      "cell_type": "markdown",
      "source": [
        "## Pregunta 2: Prim"
      ],
      "metadata": {
        "id": "jYvuQw8jGj2R"
      }
    },
    {
      "cell_type": "code",
      "source": [
        "import heapq # -> para hacer uso de la cola"
      ],
      "metadata": {
        "id": "Z_XmBR44JURl"
      },
      "execution_count": null,
      "outputs": []
    },
    {
      "cell_type": "code",
      "source": [
        "def prim(grafo):\n",
        "    num_vertices = len(grafo)\n",
        "    visitados = [False] * num_vertices\n",
        "    min_pesos = [float('inf')] * num_vertices\n",
        "\n",
        "    padre = [-1] * num_vertices\n",
        "    min_pesos[0] = 0\n",
        "    cola_prioridad = [(0, 0)]\n",
        "\n",
        "    aristas_mst = []\n",
        "\n",
        "    while cola_prioridad:\n",
        "        peso_actual, u = heapq.heappop(cola_prioridad)\n",
        "\n",
        "        if visitados[u]:\n",
        "            continue\n",
        "\n",
        "        visitados[u] = True\n",
        "\n",
        "        if padre[u] != -1:\n",
        "            aristas_mst.append((padre[u], u, peso_actual))\n",
        "\n",
        "\n",
        "        for v, peso in grafo[u]:\n",
        "            if not visitados[v] and peso < min_pesos[v]:\n",
        "                min_pesos[v] = peso\n",
        "                padre[v] = u\n",
        "                heapq.heappush(cola_prioridad, (peso, v))\n",
        "\n",
        "    return aristas_mst"
      ],
      "metadata": {
        "id": "41NyHMLUH-Go"
      },
      "execution_count": null,
      "outputs": []
    },
    {
      "cell_type": "code",
      "source": [
        "grafo = {\n",
        "    0: [(1, 7), (2, 8)],\n",
        "    1: [(0, 7), (2, 3), (3, 6)],\n",
        "    2: [(0, 8), (1, 3), (3, 4), (4, 2)],\n",
        "    3: [(1, 6), (2, 4), (4, 5), (5, 1)],\n",
        "    4: [(2, 2), (3, 5), (5, 4)],\n",
        "    5: [(3, 1), (4, 4)]\n",
        "}"
      ],
      "metadata": {
        "id": "z9TgL9t4Glg6"
      },
      "execution_count": null,
      "outputs": []
    },
    {
      "cell_type": "code",
      "source": [
        "resultado_prim = prim(grafo)\n",
        "print(\"Resultado final (con Prim)\")\n",
        "for u, v, peso in resultado_prim:\n",
        "    print(f\"{u} -- {v} == {peso}\")"
      ],
      "metadata": {
        "colab": {
          "base_uri": "https://localhost:8080/"
        },
        "id": "LPseCGBAIE01",
        "outputId": "66018b73-c0fb-4e7a-98b2-1cc3b69b10ee"
      },
      "execution_count": null,
      "outputs": [
        {
          "output_type": "stream",
          "name": "stdout",
          "text": [
            "Resultado final (con Prim)\n",
            "0 -- 1 == 7\n",
            "1 -- 2 == 3\n",
            "2 -- 4 == 2\n",
            "2 -- 3 == 4\n",
            "3 -- 5 == 1\n"
          ]
        }
      ]
    }
  ]
}