{
 "cells": [
  {
   "cell_type": "code",
   "execution_count": null,
   "metadata": {},
   "outputs": [],
   "source": [
    "# Ejercicio 1\n",
    "# 1.1 Escriba un método generar(n) que genere un arreglo de tamaño n con todos sus elementos\n",
    "# aleatorios entre 1 y 100\n",
    "import random\n",
    "\n",
    "def create_random_list(n: int) -> list[int]:\n",
    "    return [random.randint(1, 101) for _ in range(n)]\n",
    "\n",
    "# 1.2 Escriba un método mostrar(int[] t) que muestra todos los elementos de un arreglo t\n",
    "def show_list(t : list[int]):\n",
    "    for i in t:\n",
    "        print(i, end=' ')\n",
    "    print()\n",
    "\n",
    "# 1.3 Escriba un método reversa(int[] t) que invierte el orden de todos los elementos de un arreglo t\n",
    "# (sin crear arreglos auxiliares)\n",
    "def reverse_list(t: list[int]) -> list[int]:\n",
    "    return t[::-1]\n",
    "\n",
    "# 1.4 Escriba un método int minArreglo(int[] t) que devuelve el elemento más pequeño de un arreglo\n",
    "def find_minimum(t: list[int]) -> int:\n",
    "    return min(t)\n",
    "\n",
    "# 1.5 Escriba un método int mediaArreglo(int[] t) que devuelve la media aritmética de los elementos\n",
    "# de un arreglo\n",
    "def calculate_media(t: list[int]) -> float:\n",
    "    return sum(t) / len(t)\n",
    "\n",
    "# 1.6 Escriba un método int[] ocurrencias(int[] t) que devuelve un nuevo arreglo s tal que s[i] es el\n",
    "# número de veces que el entero i aparece en t.\n",
    "def count_occurrences(t: list[int]) -> list[int]:\n",
    "    return [t.count(i) for i in range(101)]"
   ]
  },
  {
   "cell_type": "code",
   "execution_count": 1,
   "metadata": {},
   "outputs": [
    {
     "name": "stdout",
     "output_type": "stream",
     "text": [
      "[0, 1, 2, 3, 4, 5, 6, 7, 8, 9, 10, 11, 12, 13, 14, 15, 16, 17, 18, 19, 20, 21, 22, 23, 24, 25, 26, 27, 28, 29, 30, 31, 32, 33, 34, 35, 36, 37, 38, 39, 40, 41, 42, 43, 44, 45, 46, 47, 48, 49, 50, 51, 52, 53, 54, 55, 56, 57, 58, 59, 60, 61, 62, 63, 64, 65, 66, 67, 68, 69, 70, 71, 72, 73, 74, 75, 76, 77, 78, 79, 80, 81, 82, 83, 84, 85, 86, 87, 88, 89, 90, 91, 92, 93, 94, 95, 96, 97, 98, 99, 100]\n"
     ]
    }
   ],
   "source": [
    "# Ejercicio 2\n",
    "def create_array(n: int = 100)-> list[int]:\n",
    "    return [i for i in range(n + 1)]\n",
    "\n",
    "print(create_array())"
   ]
  },
  {
   "cell_type": "code",
   "execution_count": null,
   "metadata": {},
   "outputs": [
    {
     "name": "stdout",
     "output_type": "stream",
     "text": [
      "True\n"
     ]
    }
   ],
   "source": [
    "# Ejercicio 3\n",
    "'''Escriba un programa que pide al usuario de entrar una grilla de sudoku completamente\n",
    "llena y verifique que esta grilla es correcta.'''\n",
    "def check_sudoku(grid: list[list[int]]) -> bool:\n",
    "    n = len(grid)\n",
    "    nums = set(range(1, n + 1))\n",
    "    \n",
    "    # Verificar filas\n",
    "    for row in grid:\n",
    "        if set(row) != nums:\n",
    "            return False\n",
    "    \n",
    "    # Verificar columnas\n",
    "    for col in range(n):\n",
    "        if set(grid[row][col] for row in range(n)) != nums:\n",
    "            return False\n",
    "    \n",
    "    # Verificar subcuadrantes (para 9x9)\n",
    "    k = int(n ** 0.5)\n",
    "    for i in range(0, n, k):\n",
    "        for j in range(0, n, k):\n",
    "            block = []\n",
    "            for r in range(i, i + k):\n",
    "                for c in range(j, j + k):\n",
    "                    block.append(grid[r][c])\n",
    "            if set(block) != nums:\n",
    "                return False\n",
    "    return True\n",
    "\n",
    "\n",
    "print(check_sudoku([\n",
    "    [5,3,4,6,7,8,9,1,2],\n",
    "    [6,7,2,1,9,5,3,4,8],\n",
    "    [1,9,8,3,4,2,5,6,7],\n",
    "    [8,5,9,7,6,1,4,2,3],\n",
    "    [4,2,6,8,5,3,7,9,1],\n",
    "    [7,1,3,9,2,4,8,5,6],\n",
    "    [9,6,1,5,3,7,2,8,4],\n",
    "    [2,8,7,4,1,9,6,3,5],\n",
    "    [3,4,5,2,8,6,1,7,9]\n",
    "]))  \n"
   ]
  },
  {
   "cell_type": "code",
   "execution_count": null,
   "metadata": {},
   "outputs": [
    {
     "name": "stdout",
     "output_type": "stream",
     "text": [
      "4\n"
     ]
    }
   ],
   "source": [
    "# Ejercicio 4\n",
    "'''Implemente la función int numeros_primos(int n) que cuenta el número de números primos menores\n",
    "que n usando la criba de Eratóstenes.'''\n",
    "\n",
    "def numeros_primos(n):\n",
    "    if n <= 2: # -> en este rango no hay numeros primos\n",
    "        return 0\n",
    "\n",
    "    es_primo = [True] * n # -> inicializamos todos los numeros como primos\n",
    "    es_primo[0] = es_primo[1] = False # -> 0 y 1 no son primos asi que son false\n",
    "\n",
    "    for i in range(2, int(n ** 0.5) + 1): # -> recorremos todos los numeros desde 2 hasta la raiz cuadrada de n\n",
    "        if es_primo[i]: # -> si el numero es primo\n",
    "            for j in range(i * i, n, i): # -> marcamos todos los multiplos de i como no primos, pq son divisibles por i\n",
    "                es_primo[j] = False\n",
    "\n",
    "    return sum(es_primo) # -> cuenta todos los numeros primos\n",
    "\n",
    "print(numeros_primos(10))"
   ]
  }
 ],
 "metadata": {
  "kernelspec": {
   "display_name": "Python 3",
   "language": "python",
   "name": "python3"
  },
  "language_info": {
   "codemirror_mode": {
    "name": "ipython",
    "version": 3
   },
   "file_extension": ".py",
   "mimetype": "text/x-python",
   "name": "python",
   "nbconvert_exporter": "python",
   "pygments_lexer": "ipython3",
   "version": "3.12.2"
  }
 },
 "nbformat": 4,
 "nbformat_minor": 2
}
