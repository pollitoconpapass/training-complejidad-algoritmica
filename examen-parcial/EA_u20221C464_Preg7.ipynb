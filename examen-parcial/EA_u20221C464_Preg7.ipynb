{
  "nbformat": 4,
  "nbformat_minor": 0,
  "metadata": {
    "colab": {
      "provenance": []
    },
    "kernelspec": {
      "name": "python3",
      "display_name": "Python 3"
    },
    "language_info": {
      "name": "python"
    }
  },
  "cells": [
    {
      "cell_type": "code",
      "source": [
        "import itertools"
      ],
      "metadata": {
        "id": "PRDdLiNOmS7v"
      },
      "execution_count": null,
      "outputs": []
    },
    {
      "cell_type": "code",
      "source": [
        "def es_palabra_valida_grafo(palabra, alfabeto):\n",
        "    if not 1 <= len(palabra) <= 5:\n",
        "        return False\n",
        "    for i in range(len(palabra) - 1):\n",
        "        if alfabeto.index(palabra[i]) >= alfabeto.index(palabra[i+1]):\n",
        "            return False\n",
        "\n",
        "    return True"
      ],
      "metadata": {
        "id": "64yrlonZmUu-"
      },
      "execution_count": null,
      "outputs": []
    },
    {
      "cell_type": "code",
      "source": [
        "def generar_palabras_validas_longitud(longitud, alfabeto):\n",
        "    palabras_validas = []\n",
        "\n",
        "    for combinacion in itertools.combinations(alfabeto, longitud):\n",
        "        palabra = \"\".join(combinacion)\n",
        "        if es_palabra_valida_grafo(palabra, alfabeto):\n",
        "            palabras_validas.append(palabra)\n",
        "    return palabras_validas"
      ],
      "metadata": {
        "id": "BqBi-bP2mcgN"
      },
      "execution_count": null,
      "outputs": []
    },
    {
      "cell_type": "code",
      "source": [
        "def calcular_indice_grafo(palabra):\n",
        "    alfabeto = 'abcdefghijklmnopqrstuvwxyz'\n",
        "    if not es_palabra_valida_grafo(palabra, alfabeto):\n",
        "        return 0\n",
        "\n",
        "    indice = 0\n",
        "\n",
        "    for l in range(1, len(palabra)):\n",
        "        indice += len(generar_palabras_validas_longitud(l, alfabeto))\n",
        "\n",
        "    palabras_misma_longitud = generar_palabras_validas_longitud(len(palabra), alfabeto)\n",
        "\n",
        "    try:\n",
        "        indice += palabras_misma_longitud.index(palabra) + 1\n",
        "    except ValueError:\n",
        "        return 0\n",
        "\n",
        "    return indice"
      ],
      "metadata": {
        "id": "m7e3_IAkmgi-"
      },
      "execution_count": null,
      "outputs": []
    },
    {
      "cell_type": "code",
      "source": [
        "# Creando el archivo txt\n",
        "with open(\"palabras.txt\", \"w\") as f:\n",
        "    f.write(\"z\\n\")\n",
        "    f.write(\"a\\n\")\n",
        "    f.write(\"cat\\n\")\n",
        "    f.write(\"vwxyz\\n\")\n",
        "    f.write(\"az\\n\")\n",
        "    f.write(\"ab\\n\")\n",
        "    f.write(\"zyxw\\n\") # -> palabra inválida"
      ],
      "metadata": {
        "id": "8fQDJBI8mmpm"
      },
      "execution_count": null,
      "outputs": []
    },
    {
      "cell_type": "code",
      "source": [
        "with open(\"palabras.txt\", \"r\") as f:\n",
        "        for linea in f:\n",
        "            palabra = linea.strip()\n",
        "            indice = calcular_indice_grafo(palabra)\n",
        "            print(indice)"
      ],
      "metadata": {
        "colab": {
          "base_uri": "https://localhost:8080/"
        },
        "id": "Wt447jZFmruF",
        "outputId": "1fae8f7a-f238-4e68-9db3-1c6ffb5b73d9"
      },
      "execution_count": null,
      "outputs": [
        {
          "output_type": "stream",
          "name": "stdout",
          "text": [
            "26\n",
            "1\n",
            "0\n",
            "83681\n",
            "51\n",
            "27\n",
            "0\n"
          ]
        }
      ]
    },
    {
      "cell_type": "markdown",
      "source": [
        "## Sustentacion\n",
        "\n",
        "Para esta solucion se hizo uso de un grafo alfabeto donde cada nodo representa una letra del alfabeto.\n",
        "\n",
        "Solo existen conexiones para ir en orden ascendente en cada letra.\n",
        "\n",
        "(No habra conexion de 'b' a 'a' pero si de 'a' a 'b')\n",
        "\n",
        "El grafo empleado hace una exploracion de sus posibles caminos para generar las palabras válidas.\n",
        "\n",
        "- Generacion de palabras validas: Se generan todas las palabras válidas para cada longitud posible (de 1 a 5 letras). Esto es posible combinando letras del alfabeto y filtrando las combinaciones que no cumplen la condición de orden ascendente.\n",
        "\n",
        "- Determinando el indice: Se hace de la siguiente manera:\n",
        "  1. Se suma el total de palabras válidas de todas las longitudes menores que la palabra de entrada. Esto representa la cantidad de \"caminos más cortos\" que preceden a los caminos de la longitud de la palabra de entrada.\n",
        "  2. Dentro del conjunto de palabras válidas, se encuentra la posición de la palabra de entrada.\n",
        "  3. El índice final es la suma de las palabras válidas más cortas y su posicion de la palabra dentro de su grupo de longitud, mas uno. (pq empieza desde 0)\n",
        "\n",
        "\n",
        "  \n",
        "\n",
        "\n"
      ],
      "metadata": {
        "id": "SzB2O4LcnFzd"
      }
    }
  ]
}