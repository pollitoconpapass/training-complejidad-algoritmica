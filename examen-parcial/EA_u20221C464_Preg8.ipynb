{
  "nbformat": 4,
  "nbformat_minor": 0,
  "metadata": {
    "colab": {
      "provenance": []
    },
    "kernelspec": {
      "name": "python3",
      "display_name": "Python 3"
    },
    "language_info": {
      "name": "python"
    }
  },
  "cells": [
    {
      "cell_type": "code",
      "execution_count": null,
      "metadata": {
        "id": "klmz3rxUpEA8"
      },
      "outputs": [],
      "source": [
        "def calcular_distancia_manhattan(a, b):\n",
        "    return abs(a[0] - b[0]) + abs(a[1] - b[1])"
      ]
    },
    {
      "cell_type": "code",
      "source": [
        "def a_estrellita(mapa, inicio, final):\n",
        "  rows = len(mapa)\n",
        "  cols = len(mapa[0])\n",
        "\n",
        "  nodos_visitados = set()\n",
        "\n",
        "  g_score = {node: float('inf') for row in range(rows) for node in [(row, col) for col in range(cols)]}\n",
        "  g_score[inicio] = 0\n",
        "\n",
        "  f_score = {node: float('inf') for row in range(rows) for node in [(row, col) for col in range(cols)]}\n",
        "  f_score[inicio] = calcular_distancia_manhattan(inicio, final)\n",
        "\n",
        "\n",
        "  conj_abierto = [inicio]\n",
        "  viene_de = {}\n",
        "\n",
        "  while conj_abierto:\n",
        "      nodo_actual = None\n",
        "      min_f_score = float('inf')\n",
        "\n",
        "      for node in conj_abierto:\n",
        "          if f_score[node] < min_f_score:\n",
        "              min_f_score = f_score[node]\n",
        "              nodo_actual = node\n",
        "\n",
        "      if nodo_actual is None:\n",
        "          break\n",
        "\n",
        "      conj_abierto.remove(nodo_actual)\n",
        "\n",
        "\n",
        "      if nodo_actual == final: # -> se llego al destino final\n",
        "          ruta = []\n",
        "          while nodo_actual in viene_de:\n",
        "              ruta.append(nodo_actual)\n",
        "              nodo_actual = viene_de[nodo_actual]\n",
        "          ruta.append(inicio)\n",
        "          ruta.reverse()\n",
        "          return ruta\n",
        "\n",
        "      nodos_visitados.add(nodo_actual) # -> metemos a los nodos ya visitados\n",
        "\n",
        "      # Explorar vecinos\n",
        "      vecinos = []\n",
        "      row, col = nodo_actual\n",
        "\n",
        "      for dr, dc in [(0, 1), (0, -1), (1, 0), (-1, 0)]: # -> direcciones pobsiles\n",
        "          new_row, new_col = row + dr, col + dc\n",
        "          if 0 <= new_row < rows and 0 <= new_col < cols and mapa[new_row][new_col] == 0:\n",
        "              vecinos.append((new_row, new_col))\n",
        "\n",
        "      for vecino in vecinos:\n",
        "          if vecino in nodos_visitados:\n",
        "              continue\n",
        "\n",
        "          tentative_g_score = g_score[nodo_actual] + 1\n",
        "\n",
        "          if tentative_g_score < g_score[vecino]:\n",
        "\n",
        "              viene_de[vecino] = nodo_actual\n",
        "              g_score[vecino] = tentative_g_score\n",
        "              f_score[vecino] = g_score[vecino] + calcular_distancia_manhattan(vecino, final)\n",
        "\n",
        "              if vecino not in conj_abierto:\n",
        "                  conj_abierto.append(vecino)\n",
        "\n",
        "  return None"
      ],
      "metadata": {
        "id": "_aT-K0MnqL_j"
      },
      "execution_count": null,
      "outputs": []
    },
    {
      "cell_type": "code",
      "source": [
        "def leer_mapa(ruta_archivo):\n",
        "    with open(ruta_archivo, 'r') as f:\n",
        "        lines = f.readlines()\n",
        "        mapa = []\n",
        "\n",
        "        for line in lines:\n",
        "            row = [int(x) for x in line.split()]\n",
        "            mapa.append(row)\n",
        "\n",
        "        return mapa"
      ],
      "metadata": {
        "id": "gFUoPIM0r_4C"
      },
      "execution_count": null,
      "outputs": []
    },
    {
      "cell_type": "code",
      "source": [
        "# Crear el archivo txt\n",
        "almacen_mapa = \"\"\"\n",
        "0 0 0 0 1\n",
        "0 1 0 1 0\n",
        "0 1 0 0 0\n",
        "0 0 0 1 0\n",
        "1 1 0 0 0\n",
        "\"\"\"\n",
        "\n",
        "with open(\"almacen.txt\", \"w\") as f:\n",
        "    f.write(almacen_mapa.strip())\n"
      ],
      "metadata": {
        "id": "mRRmM9YNsMxR"
      },
      "execution_count": null,
      "outputs": []
    },
    {
      "cell_type": "markdown",
      "source": [
        "## Dibujo de Grafos\n",
        "(aqui se hizo uso de la IA Gemini)"
      ],
      "metadata": {
        "id": "RdGmaC1ctRrQ"
      }
    },
    {
      "cell_type": "code",
      "source": [
        "import matplotlib.pyplot as plt\n",
        "import numpy as np\n",
        "from matplotlib.patches import Rectangle\n",
        "import matplotlib.patches as mpatches"
      ],
      "metadata": {
        "id": "1NxgwXT3tZ3I"
      },
      "execution_count": null,
      "outputs": []
    },
    {
      "cell_type": "code",
      "source": [
        "def visualizar_a_estrella(mapa, inicio, final, ruta=None, nodos_explorados=None):\n",
        "    \"\"\"Visualiza el mapa, la ruta y los nodos explorados\"\"\"\n",
        "    fig, ax = plt.subplots(1, 1, figsize=(10, 8))\n",
        "\n",
        "    rows = len(mapa)\n",
        "    cols = len(mapa[0])\n",
        "\n",
        "    # Crear una matriz para los colores\n",
        "    color_map = np.zeros((rows, cols, 3))\n",
        "\n",
        "    # Colorear el mapa base\n",
        "    for i in range(rows):\n",
        "        for j in range(cols):\n",
        "            if mapa[i][j] == 1:  # Obstáculos\n",
        "                color_map[i][j] = [0.2, 0.2, 0.2]  # Gris oscuro\n",
        "            else:  # Espacios libres\n",
        "                color_map[i][j] = [1, 1, 1]  # Blanco\n",
        "\n",
        "    # Colorear nodos explorados\n",
        "    if nodos_explorados:\n",
        "        for nodo in nodos_explorados:\n",
        "            if nodo != inicio and nodo != final:\n",
        "                color_map[nodo[0]][nodo[1]] = [0.7, 0.9, 1.0]  # Azul claro\n",
        "\n",
        "    # Colorear la ruta óptima\n",
        "    if ruta:\n",
        "        for nodo in ruta:\n",
        "            if nodo != inicio and nodo != final:\n",
        "                color_map[nodo[0]][nodo[1]] = [0.2, 0.8, 0.2]  # Verde\n",
        "\n",
        "    # Colorear inicio y final\n",
        "    color_map[inicio[0]][inicio[1]] = [1, 0.2, 0.2]  # Rojo (inicio)\n",
        "    color_map[final[0]][final[1]] = [0.2, 0.2, 1]   # Azul (final)\n",
        "\n",
        "    # Mostrar el mapa\n",
        "    ax.imshow(color_map, origin='upper')\n",
        "\n",
        "    # Dibujar la grilla\n",
        "    for i in range(rows + 1):\n",
        "        ax.axhline(i - 0.5, color='black', linewidth=0.5)\n",
        "    for j in range(cols + 1):\n",
        "        ax.axvline(j - 0.5, color='black', linewidth=0.5)\n",
        "\n",
        "    # Dibujar la ruta con líneas\n",
        "    if ruta and len(ruta) > 1:\n",
        "        ruta_y = [nodo[0] for nodo in ruta]\n",
        "        ruta_x = [nodo[1] for nodo in ruta]\n",
        "        ax.plot(ruta_x, ruta_y, 'g-', linewidth=3, alpha=0.7, label='Ruta óptima')\n",
        "\n",
        "    # Agregar números a las celdas para mostrar el orden de exploración\n",
        "    if nodos_explorados:\n",
        "        for idx, nodo in enumerate(nodos_explorados):\n",
        "            ax.text(nodo[1], nodo[0], str(idx+1), ha='center', va='center',\n",
        "                   fontsize=8, fontweight='bold', color='darkblue')\n",
        "\n",
        "    # Marcar inicio y final con texto\n",
        "    ax.text(inicio[1], inicio[0], 'S', ha='center', va='center',\n",
        "           fontsize=12, fontweight='bold', color='white')\n",
        "    ax.text(final[1], final[0], 'G', ha='center', va='center',\n",
        "           fontsize=12, fontweight='bold', color='white')\n",
        "\n",
        "    # Configurar los ejes\n",
        "    ax.set_xlim(-0.5, cols - 0.5)\n",
        "    ax.set_ylim(rows - 0.5, -0.5)\n",
        "    ax.set_xticks(range(cols))\n",
        "    ax.set_yticks(range(rows))\n",
        "    ax.set_xlabel('Columnas')\n",
        "    ax.set_ylabel('Filas')\n",
        "    ax.set_title('Algoritmo A* - Búsqueda de Ruta Óptima')\n",
        "\n",
        "    # Crear leyenda\n",
        "    legend_elements = [\n",
        "        mpatches.Patch(color='red', label='Inicio (S)'),\n",
        "        mpatches.Patch(color='blue', label='Destino (G)'),\n",
        "        mpatches.Patch(color='gray', label='Obstáculos'),\n",
        "        mpatches.Patch(color='lightblue', label='Nodos explorados'),\n",
        "        mpatches.Patch(color='green', label='Ruta óptima'),\n",
        "        mpatches.Patch(color='white', label='Espacios libres')\n",
        "    ]\n",
        "    ax.legend(handles=legend_elements, loc='center left', bbox_to_anchor=(1, 0.5))\n",
        "\n",
        "    plt.tight_layout()\n",
        "    plt.show()"
      ],
      "metadata": {
        "id": "zGWTQDaitrG5"
      },
      "execution_count": null,
      "outputs": []
    },
    {
      "cell_type": "code",
      "source": [
        "def main():\n",
        "  mapa_almacen_cargado = leer_mapa(\"almacen.txt\")\n",
        "  inicio = (0, 0)\n",
        "  final = (4, 4)\n",
        "\n",
        "  # Hallar ruta mas corta\n",
        "  ruta = a_estrellita(mapa_almacen_cargado, inicio, final)\n",
        "  if ruta:\n",
        "    print(f\"La ruta mas corta es: \\n{ruta}\")\n",
        "    print(\"===Grafo con ruta=== \\n\")\n",
        "    visualizar_a_estrella(mapa_almacen_cargado, inicio, final, ruta)\n",
        "\n",
        "  else:\n",
        "    print(\"No se ha encontrado una ruta :(\")"
      ],
      "metadata": {
        "id": "rD_Dz2FMsaFK"
      },
      "execution_count": null,
      "outputs": []
    },
    {
      "cell_type": "code",
      "source": [
        "if __name__ == \"__main__\":\n",
        "  main()"
      ],
      "metadata": {
        "colab": {
          "base_uri": "https://localhost:8080/",
          "height": 876
        },
        "id": "j3EuKLRHsz1y",
        "outputId": "39c29934-447a-4bdd-b18f-3e505d981cf2"
      },
      "execution_count": null,
      "outputs": [
        {
          "output_type": "stream",
          "name": "stdout",
          "text": [
            "La ruta mas corta es: \n",
            "[(0, 0), (0, 1), (0, 2), (1, 2), (2, 2), (2, 3), (2, 4), (3, 4), (4, 4)]\n",
            "===Grafo con ruta=== \n",
            "\n"
          ]
        },
        {
          "output_type": "display_data",
          "data": {
            "text/plain": [
              "<Figure size 1000x800 with 1 Axes>"
            ],
            "image/png": "[encoded data removed]"
          },
          "metadata": {}
        }
      ]
    },
    {
      "cell_type": "markdown",
      "source": [
        "## Sustentacion\n",
        "\n",
        "El algoritmo A* es una elección adecuada para este problema porque:\n",
        "\n",
        "1. Garantiza la ruta más corta: Con una heurística admisible (como la distancia de Manhattan, que nunca sobreestima el costo real), A* encuentra la ruta más corta.\n",
        "2. Eficiencia: Combina la búsqueda en profundidad (utilizando el costo real g_score) con la búsqueda de primero el mejor (utilizando la heurística h_score para estimar el costo restante). Esto lo hace más eficiente que algoritmos como Dijkstra en muchos casos, ya que guía la búsqueda hacia el objetivo.\n",
        "3. Considera obstáculos: El algoritmo A* se modifica fácilmente para manejar obstáculos, ya que simplemente no explora los nodos correspondientes a las celdas bloqueadas.\n",
        "4. Utiliza la heurística de distancia de Manhattan: La distancia de Manhattan es apropiada para una cuadrícula donde solo se permiten movimientos ortogonales, como en este caso."
      ],
      "metadata": {
        "id": "QGm7osJIvftR"
      }
    }
  ]
}