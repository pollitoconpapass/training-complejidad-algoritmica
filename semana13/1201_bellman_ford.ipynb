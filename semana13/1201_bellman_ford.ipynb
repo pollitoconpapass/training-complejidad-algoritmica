{
  "cells": [
    {
      "cell_type": "markdown",
      "metadata": {
        "colab_type": "text",
        "id": "view-in-github"
      },
      "source": [
        "<a href=\"https://colab.research.google.com/github/lmcanavals/acomplex/blob/main/1201_bellman_ford.ipynb\" target=\"_parent\"><img src=\"https://colab.research.google.com/assets/colab-badge.svg\" alt=\"Open In Colab\"/></a>"
      ]
    },
    {
      "cell_type": "code",
      "execution_count": null,
      "metadata": {
        "id": "sXb-GwKKBvhq"
      },
      "outputs": [],
      "source": [
        "import math\n",
        "\n",
        "def bellmanFord(G, s): # returns the path π and and whether or not a negative cycle exists\n",
        "    n = len(G)                      # |V|\n",
        "    π = [-1]*n                      # path\n",
        "    g = [math.inf]*n                # cost\n",
        "    g[s] = 0\n",
        "\n",
        "    for _ in range(n-1):            # repetir |V| - 1 veces\n",
        "        for u in range(n):\n",
        "            for v, w in G[u]:       # para cada arco (u, v, con peso w) de E\n",
        "                f = g[u] + w\n",
        "                if f < g[v]:        # relax(u, v, w)\n",
        "                    g[v] = f\n",
        "                    π[v] = u\n",
        "\n",
        "    \n",
        "    for u in range(n):              # para cada arco (u, v, con peso w) de E\n",
        "        for v, w in G[u]:\n",
        "            f = g[u] + w\n",
        "            if f < g[v]:            # se puede relajar?\n",
        "                return None         # existe ciclo negativo\n",
        "\n",
        "    return π                        # no existe ciclo negativo"
      ]
    }
  ],
  "metadata": {
    "colab": {
      "authorship_tag": "ABX9TyOfL8G+fLA7ijqHi1kTqPA5",
      "include_colab_link": true,
      "name": "1201-bellman-ford.ipynb",
      "provenance": []
    },
    "kernelspec": {
      "display_name": "Python 3",
      "name": "python3"
    },
    "language_info": {
      "name": "python"
    }
  },
  "nbformat": 4,
  "nbformat_minor": 0
}
