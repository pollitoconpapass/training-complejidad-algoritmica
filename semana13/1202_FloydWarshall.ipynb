{
  "nbformat": 4,
  "nbformat_minor": 0,
  "metadata": {
    "colab": {
      "name": "1202-FloydWarshall.ipynb",
      "provenance": [],
      "collapsed_sections": [],
      "authorship_tag": "ABX9TyNusDuQHAfM0S88TqGUH3GV",
      "include_colab_link": true
    },
    "kernelspec": {
      "name": "python3",
      "display_name": "Python 3"
    },
    "language_info": {
      "name": "python"
    }
  },
  "cells": [
    {
      "cell_type": "markdown",
      "metadata": {
        "id": "view-in-github",
        "colab_type": "text"
      },
      "source": [
        "<a href=\"https://colab.research.google.com/github/lmcanavals/acomplex/blob/main/1202_FloydWarshall.ipynb\" target=\"_parent\"><img src=\"https://colab.research.google.com/assets/colab-badge.svg\" alt=\"Open In Colab\"/></a>"
      ]
    },
    {
      "cell_type": "code",
      "execution_count": null,
      "metadata": {
        "colab": {
          "base_uri": "https://localhost:8080/"
        },
        "id": "1b2VF4HIyQTi",
        "outputId": "41a48b10-2e7a-495f-863d-8e67caa122b2"
      },
      "outputs": [
        {
          "output_type": "stream",
          "name": "stdout",
          "text": [
            "Cloning into 'acomplex'...\n",
            "remote: Enumerating objects: 128, done.\u001b[K\n",
            "remote: Counting objects: 100% (128/128), done.\u001b[K\n",
            "remote: Compressing objects: 100% (127/127), done.\u001b[K\n",
            "remote: Total 128 (delta 72), reused 0 (delta 0), pack-reused 0\u001b[K\n",
            "Receiving objects: 100% (128/128), 1.17 MiB | 5.30 MiB/s, done.\n",
            "Resolving deltas: 100% (72/72), done.\n"
          ]
        }
      ],
      "source": [
        "!git clone https://github.com/lmcanavals/acomplex.git"
      ]
    },
    {
      "cell_type": "code",
      "source": [
        "from acomplex.graphstuff import adjlShow\n",
        "import numpy as np\n",
        "import math"
      ],
      "metadata": {
        "id": "4tkdtc2_yYiU"
      },
      "execution_count": null,
      "outputs": []
    },
    {
      "cell_type": "code",
      "source": [
        "def floydWarshall(G):\n",
        "    n = len(G)\n",
        "    cost = np.full((n, n), math.inf)\n",
        "    path = np.full((n, n), -1, dtype=int)\n",
        "\n",
        "    for u in range(n):\n",
        "        for v, w in G[u]:\n",
        "            cost[u, v] = w\n",
        "            path[u, v] = u\n",
        "\n",
        "    for k in range(n):\n",
        "        for i in range(n):\n",
        "            for j in range(n):\n",
        "                if i != j and j != k and k != i:\n",
        "                    f = cost[i, k] + cost[k, j]\n",
        "                    if f < cost[i, j]:\n",
        "                        cost[i, j] = f\n",
        "                        path[i, j] = path[k, j]\n",
        "\n",
        "    return cost, path"
      ],
      "metadata": {
        "id": "ld3-qhQfyncf"
      },
      "execution_count": 10,
      "outputs": []
    },
    {
      "cell_type": "code",
      "source": [
        "%%file 1201a.al\n",
        "3 3 4 9\n",
        "0 9 2 2 6 4\n",
        "1 4 5 6\n",
        "-\n",
        "6 8\n",
        "1 1 3 9\n",
        "5 3 7 1\n",
        "6 3"
      ],
      "metadata": {
        "colab": {
          "base_uri": "https://localhost:8080/"
        },
        "id": "z1crZ9Vuzcdv",
        "outputId": "fecc6897-eb7f-40f2-bdd0-985dadc73a32"
      },
      "execution_count": 6,
      "outputs": [
        {
          "output_type": "stream",
          "name": "stdout",
          "text": [
            "Writing 1201a.al\n"
          ]
        }
      ]
    },
    {
      "cell_type": "code",
      "source": [
        "with open(\"1201a.al\") as f:\n",
        "  G = []\n",
        "  for line in f:\n",
        "    if line == '-\\n':\n",
        "      G.append([])\n",
        "    else:\n",
        "      nums = [int(x) for x in line.split()]\n",
        "      G.append([(nums[i], nums[i+1]) for i in range(0, len(nums), 2)])\n",
        "\n",
        "  for x in G:\n",
        "    print(x)"
      ],
      "metadata": {
        "colab": {
          "base_uri": "https://localhost:8080/"
        },
        "id": "d3uVEQDm0BUz",
        "outputId": "e363a2d7-e38b-49a6-bff7-064f56cd8b0f"
      },
      "execution_count": 7,
      "outputs": [
        {
          "output_type": "stream",
          "name": "stdout",
          "text": [
            "[(3, 3), (4, 9)]\n",
            "[(0, 9), (2, 2), (6, 4)]\n",
            "[(1, 4), (5, 6)]\n",
            "[]\n",
            "[(6, 8)]\n",
            "[(1, 1), (3, 9)]\n",
            "[(5, 3), (7, 1)]\n",
            "[(6, 3)]\n"
          ]
        }
      ]
    },
    {
      "cell_type": "code",
      "source": [
        "adjlShow(G, weighted=True, layout=\"neato\")"
      ],
      "metadata": {
        "colab": {
          "base_uri": "https://localhost:8080/",
          "height": 247
        },
        "id": "-2ID9S8p0QFk",
        "outputId": "efb5b47f-3a65-4e5f-a44a-687f150401aa"
      },
      "execution_count": 11,
      "outputs": [
        {
          "output_type": "execute_result",
          "data": {
            "text/plain": [
              "<graphviz.dot.Graph at 0x7fb55096ba90>"
            ],
            "image/svg+xml": "<?xml version=\"1.0\" encoding=\"UTF-8\" standalone=\"no\"?>\n<!DOCTYPE svg PUBLIC \"-//W3C//DTD SVG 1.1//EN\"\n \"http://www.w3.org/Graphics/SVG/1.1/DTD/svg11.dtd\">\n<!-- Generated by graphviz version 2.40.1 (20161225.0304)\n -->\n<!-- Title: G Pages: 1 -->\n<svg width=\"227pt\" height=\"169pt\"\n viewBox=\"0.00 0.00 227.33 169.10\" xmlns=\"http://www.w3.org/2000/svg\" xmlns:xlink=\"http://www.w3.org/1999/xlink\">\n<g id=\"graph0\" class=\"graph\" transform=\"scale(1 1) rotate(0) translate(4 165.1001)\">\n<title>G</title>\n<polygon fill=\"#ffffff\" stroke=\"transparent\" points=\"-4,4 -4,-165.1001 223.3309,-165.1001 223.3309,4 -4,4\"/>\n<!-- 0 -->\n<g id=\"node1\" class=\"node\">\n<title>0</title>\n<ellipse fill=\"none\" stroke=\"#ff4500\" cx=\"90.7275\" cy=\"-143.3001\" rx=\"15.6129\" ry=\"12.0417\"/>\n<text text-anchor=\"middle\" x=\"90.7275\" y=\"-141.4001\" font-family=\"monospace\" font-size=\"8.00\" fill=\"#7b68ee\">0</text>\n</g>\n<!-- 3 -->\n<g id=\"node4\" class=\"node\">\n<title>3</title>\n<ellipse fill=\"none\" stroke=\"#ff4500\" cx=\"20.2844\" cy=\"-149.0793\" rx=\"15.6129\" ry=\"12.0417\"/>\n<text text-anchor=\"middle\" x=\"20.2844\" y=\"-147.1793\" font-family=\"monospace\" font-size=\"8.00\" fill=\"#7b68ee\">3</text>\n</g>\n<!-- 0&#45;&#45;3 -->\n<g id=\"edge1\" class=\"edge\">\n<title>0&#45;&#45;3</title>\n<path fill=\"none\" stroke=\"#c0c0c0\" d=\"M75.0939,-144.5827C63.4203,-145.5404 47.5374,-146.8434 35.8743,-147.8003\"/>\n<text text-anchor=\"middle\" x=\"52.4841\" y=\"-148.7915\" font-family=\"monospace\" font-size=\"8.00\" fill=\"#000000\">3</text>\n</g>\n<!-- 4 -->\n<g id=\"node5\" class=\"node\">\n<title>4</title>\n<ellipse fill=\"none\" stroke=\"#ff4500\" cx=\"165.4308\" cy=\"-143.2619\" rx=\"15.6129\" ry=\"12.0417\"/>\n<text text-anchor=\"middle\" x=\"165.4308\" y=\"-141.3619\" font-family=\"monospace\" font-size=\"8.00\" fill=\"#7b68ee\">4</text>\n</g>\n<!-- 0&#45;&#45;4 -->\n<g id=\"edge2\" class=\"edge\">\n<title>0&#45;&#45;4</title>\n<path fill=\"none\" stroke=\"#c0c0c0\" d=\"M106.5702,-143.292C119.3332,-143.2855 137.1789,-143.2763 149.8671,-143.2698\"/>\n<text text-anchor=\"middle\" x=\"125.2186\" y=\"-145.8809\" font-family=\"monospace\" font-size=\"8.00\" fill=\"#000000\">9</text>\n</g>\n<!-- 1 -->\n<g id=\"node2\" class=\"node\">\n<title>1</title>\n<ellipse fill=\"none\" stroke=\"#ff4500\" cx=\"85.1028\" cy=\"-45.2496\" rx=\"15.6129\" ry=\"12.0417\"/>\n<text text-anchor=\"middle\" x=\"85.1028\" y=\"-43.3496\" font-family=\"monospace\" font-size=\"8.00\" fill=\"#7b68ee\">1</text>\n</g>\n<!-- 1&#45;&#45;0 -->\n<g id=\"edge3\" class=\"edge\">\n<title>1&#45;&#45;0</title>\n<path fill=\"none\" stroke=\"#c0c0c0\" d=\"M85.7925,-57.2725C86.8721,-76.091 88.9492,-112.2999 90.0322,-131.1789\"/>\n<text text-anchor=\"middle\" x=\"84.9124\" y=\"-96.8257\" font-family=\"monospace\" font-size=\"8.00\" fill=\"#000000\">9</text>\n</g>\n<!-- 2 -->\n<g id=\"node3\" class=\"node\">\n<title>2</title>\n<ellipse fill=\"none\" stroke=\"#ff4500\" cx=\"15.5563\" cy=\"-12.0208\" rx=\"15.6129\" ry=\"12.0417\"/>\n<text text-anchor=\"middle\" x=\"15.5563\" y=\"-10.1208\" font-family=\"monospace\" font-size=\"8.00\" fill=\"#7b68ee\">2</text>\n</g>\n<!-- 1&#45;&#45;2 -->\n<g id=\"edge4\" class=\"edge\">\n<title>1&#45;&#45;2</title>\n<path fill=\"none\" stroke=\"#c0c0c0\" d=\"M71.6936,-38.8427C59.3785,-32.9587 41.2265,-24.2858 28.9244,-18.408\"/>\n<text text-anchor=\"middle\" x=\"47.309\" y=\"-31.2254\" font-family=\"monospace\" font-size=\"8.00\" fill=\"#000000\">2</text>\n</g>\n<!-- 6 -->\n<g id=\"node7\" class=\"node\">\n<title>6</title>\n<ellipse fill=\"none\" stroke=\"#ff4500\" cx=\"143.4485\" cy=\"-66.0921\" rx=\"15.6129\" ry=\"12.0417\"/>\n<text text-anchor=\"middle\" x=\"143.4485\" y=\"-64.1921\" font-family=\"monospace\" font-size=\"8.00\" fill=\"#7b68ee\">6</text>\n</g>\n<!-- 1&#45;&#45;6 -->\n<g id=\"edge5\" class=\"edge\">\n<title>1&#45;&#45;6</title>\n<path fill=\"none\" stroke=\"#c0c0c0\" d=\"M99.2267,-50.295C108.2652,-53.5237 119.9577,-57.7006 129.0493,-60.9483\"/>\n<text text-anchor=\"middle\" x=\"111.138\" y=\"-58.2217\" font-family=\"monospace\" font-size=\"8.00\" fill=\"#000000\">4</text>\n</g>\n<!-- 5 -->\n<g id=\"node6\" class=\"node\">\n<title>5</title>\n<ellipse fill=\"none\" stroke=\"#ff4500\" cx=\"47.2375\" cy=\"-76.6355\" rx=\"15.6129\" ry=\"12.0417\"/>\n<text text-anchor=\"middle\" x=\"47.2375\" y=\"-74.7355\" font-family=\"monospace\" font-size=\"8.00\" fill=\"#7b68ee\">5</text>\n</g>\n<!-- 2&#45;&#45;5 -->\n<g id=\"edge6\" class=\"edge\">\n<title>2&#45;&#45;5</title>\n<path fill=\"none\" stroke=\"#c0c0c0\" d=\"M21.0748,-23.2758C26.8187,-34.9908 35.7699,-53.2469 41.5689,-65.0743\"/>\n<text text-anchor=\"middle\" x=\"28.3219\" y=\"-46.7751\" font-family=\"monospace\" font-size=\"8.00\" fill=\"#000000\">6</text>\n</g>\n<!-- 4&#45;&#45;6 -->\n<g id=\"edge7\" class=\"edge\">\n<title>4&#45;&#45;6</title>\n<path fill=\"none\" stroke=\"#c0c0c0\" d=\"M161.996,-131.2041C157.8663,-116.7065 150.978,-92.5249 146.8591,-78.0652\"/>\n<text text-anchor=\"middle\" x=\"151.4276\" y=\"-107.2346\" font-family=\"monospace\" font-size=\"8.00\" fill=\"#000000\">8</text>\n</g>\n<!-- 5&#45;&#45;1 -->\n<g id=\"edge8\" class=\"edge\">\n<title>5&#45;&#45;1</title>\n<path fill=\"none\" stroke=\"#c0c0c0\" d=\"M57.9869,-67.7255C63.1469,-63.4484 69.3112,-58.339 74.4576,-54.0732\"/>\n<text text-anchor=\"middle\" x=\"63.2222\" y=\"-54.4993\" font-family=\"monospace\" font-size=\"8.00\" fill=\"#000000\">1</text>\n</g>\n<!-- 5&#45;&#45;3 -->\n<g id=\"edge9\" class=\"edge\">\n<title>5&#45;&#45;3</title>\n<path fill=\"none\" stroke=\"#c0c0c0\" d=\"M42.907,-88.2748C37.907,-101.7136 29.7268,-123.7003 24.6937,-137.2281\"/>\n<text text-anchor=\"middle\" x=\"30.8003\" y=\"-115.3515\" font-family=\"monospace\" font-size=\"8.00\" fill=\"#000000\">9</text>\n</g>\n<!-- 6&#45;&#45;5 -->\n<g id=\"edge10\" class=\"edge\">\n<title>6&#45;&#45;5</title>\n<path fill=\"none\" stroke=\"#c0c0c0\" d=\"M127.9905,-67.786C110.0365,-69.7536 80.5947,-72.98 62.6571,-74.9457\"/>\n<text text-anchor=\"middle\" x=\"92.3238\" y=\"-73.9659\" font-family=\"monospace\" font-size=\"8.00\" fill=\"#000000\">3</text>\n</g>\n<!-- 7 -->\n<g id=\"node8\" class=\"node\">\n<title>7</title>\n<ellipse fill=\"none\" stroke=\"#ff4500\" cx=\"203.7746\" cy=\"-14.8114\" rx=\"15.6129\" ry=\"12.0417\"/>\n<text text-anchor=\"middle\" x=\"203.7746\" y=\"-12.9114\" font-family=\"monospace\" font-size=\"8.00\" fill=\"#7b68ee\">7</text>\n</g>\n<!-- 6&#45;&#45;7 -->\n<g id=\"edge11\" class=\"edge\">\n<title>6&#45;&#45;7</title>\n<path fill=\"none\" stroke=\"#c0c0c0\" d=\"M153.9565,-57.1597C164.8939,-47.8622 181.9384,-33.3734 192.9808,-23.9867\"/>\n<text text-anchor=\"middle\" x=\"170.4686\" y=\"-43.1732\" font-family=\"monospace\" font-size=\"8.00\" fill=\"#000000\">1</text>\n</g>\n</g>\n</svg>\n"
          },
          "metadata": {},
          "execution_count": 11
        }
      ]
    },
    {
      "cell_type": "code",
      "source": [
        "cost, path = floydWarshall(G)\n",
        "print(cost)\n",
        "print(path)"
      ],
      "metadata": {
        "colab": {
          "base_uri": "https://localhost:8080/"
        },
        "id": "uY4JrCeQ0ieS",
        "outputId": "b82704a1-4234-4220-d8e6-0fe531fbac68"
      },
      "execution_count": 12,
      "outputs": [
        {
          "output_type": "stream",
          "name": "stdout",
          "text": [
            "[[inf 21. 23.  3.  9. 20. 17. 18.]\n",
            " [ 9. inf  2. 12. 18.  7.  4.  5.]\n",
            " [13.  4. inf 15. 22.  6.  8.  9.]\n",
            " [inf inf inf inf inf inf inf inf]\n",
            " [21. 12. 14. 20. inf 11.  8.  9.]\n",
            " [10.  1.  3.  9. 19. inf  5.  6.]\n",
            " [13.  4.  6. 12. 22.  3. inf  1.]\n",
            " [16.  7.  9. 15. 25.  6.  3. inf]]\n",
            "[[-1  5  1  0  0  6  4  6]\n",
            " [ 1 -1  1  0  0  6  1  6]\n",
            " [ 1  2 -1  5  0  2  1  6]\n",
            " [-1 -1 -1 -1 -1 -1 -1 -1]\n",
            " [ 1  5  1  5 -1  6  4  6]\n",
            " [ 1  5  1  5  0 -1  1  6]\n",
            " [ 1  5  1  5  0  6 -1  6]\n",
            " [ 1  5  1  5  0  6  7 -1]]\n"
          ]
        }
      ]
    },
    {
      "cell_type": "code",
      "source": [
        "adjlShow(G, weighted=True, path=path[0], layout=\"neato\")"
      ],
      "metadata": {
        "colab": {
          "base_uri": "https://localhost:8080/",
          "height": 247
        },
        "id": "X9Pbcig00op8",
        "outputId": "10789f69-822d-44a7-f5d4-30cb8a3c37d2"
      },
      "execution_count": 13,
      "outputs": [
        {
          "output_type": "execute_result",
          "data": {
            "text/plain": [
              "<graphviz.dot.Graph at 0x7fb5509df4d0>"
            ],
            "image/svg+xml": "<?xml version=\"1.0\" encoding=\"UTF-8\" standalone=\"no\"?>\n<!DOCTYPE svg PUBLIC \"-//W3C//DTD SVG 1.1//EN\"\n \"http://www.w3.org/Graphics/SVG/1.1/DTD/svg11.dtd\">\n<!-- Generated by graphviz version 2.40.1 (20161225.0304)\n -->\n<!-- Title: G Pages: 1 -->\n<svg width=\"227pt\" height=\"169pt\"\n viewBox=\"0.00 0.00 227.33 169.10\" xmlns=\"http://www.w3.org/2000/svg\" xmlns:xlink=\"http://www.w3.org/1999/xlink\">\n<g id=\"graph0\" class=\"graph\" transform=\"scale(1 1) rotate(0) translate(4 165.1001)\">\n<title>G</title>\n<polygon fill=\"#ffffff\" stroke=\"transparent\" points=\"-4,4 -4,-165.1001 223.3309,-165.1001 223.3309,4 -4,4\"/>\n<!-- 0 -->\n<g id=\"node1\" class=\"node\">\n<title>0</title>\n<ellipse fill=\"none\" stroke=\"#ff4500\" cx=\"90.7275\" cy=\"-143.3001\" rx=\"15.6129\" ry=\"12.0417\"/>\n<text text-anchor=\"middle\" x=\"90.7275\" y=\"-141.4001\" font-family=\"monospace\" font-size=\"8.00\" fill=\"#7b68ee\">0</text>\n</g>\n<!-- 3 -->\n<g id=\"node4\" class=\"node\">\n<title>3</title>\n<ellipse fill=\"none\" stroke=\"#ff4500\" cx=\"20.2844\" cy=\"-149.0793\" rx=\"15.6129\" ry=\"12.0417\"/>\n<text text-anchor=\"middle\" x=\"20.2844\" y=\"-147.1793\" font-family=\"monospace\" font-size=\"8.00\" fill=\"#7b68ee\">3</text>\n</g>\n<!-- 0&#45;&#45;3 -->\n<g id=\"edge3\" class=\"edge\">\n<title>0&#45;&#45;3</title>\n<path fill=\"none\" stroke=\"#ffa500\" stroke-width=\"2\" d=\"M75.0939,-144.5827C66.5211,-145.286 55.6782,-146.1756 45.9036,-146.9775\"/>\n<polygon fill=\"#ffa500\" stroke=\"#ffa500\" stroke-width=\"2\" points=\"45.5546,-143.4943 35.8743,-147.8003 46.1271,-150.4708 45.5546,-143.4943\"/>\n<text text-anchor=\"middle\" x=\"57.4988\" y=\"-148.3801\" font-family=\"monospace\" font-size=\"8.00\" fill=\"#000000\">3</text>\n</g>\n<!-- 4 -->\n<g id=\"node5\" class=\"node\">\n<title>4</title>\n<ellipse fill=\"none\" stroke=\"#ff4500\" cx=\"165.4308\" cy=\"-143.2619\" rx=\"15.6129\" ry=\"12.0417\"/>\n<text text-anchor=\"middle\" x=\"165.4308\" y=\"-141.3619\" font-family=\"monospace\" font-size=\"8.00\" fill=\"#7b68ee\">4</text>\n</g>\n<!-- 0&#45;&#45;4 -->\n<g id=\"edge4\" class=\"edge\">\n<title>0&#45;&#45;4</title>\n<path fill=\"none\" stroke=\"#ffa500\" stroke-width=\"2\" d=\"M106.5702,-143.292C116.1425,-143.2871 128.5737,-143.2807 139.5439,-143.2751\"/>\n<polygon fill=\"#ffa500\" stroke=\"#ffa500\" stroke-width=\"2\" points=\"139.869,-146.7751 149.8671,-143.2698 139.8653,-139.7751 139.869,-146.7751\"/>\n<text text-anchor=\"middle\" x=\"120.0571\" y=\"-145.8836\" font-family=\"monospace\" font-size=\"8.00\" fill=\"#000000\">9</text>\n</g>\n<!-- 1 -->\n<g id=\"node2\" class=\"node\">\n<title>1</title>\n<ellipse fill=\"none\" stroke=\"#ff4500\" cx=\"85.1028\" cy=\"-45.2496\" rx=\"15.6129\" ry=\"12.0417\"/>\n<text text-anchor=\"middle\" x=\"85.1028\" y=\"-43.3496\" font-family=\"monospace\" font-size=\"8.00\" fill=\"#7b68ee\">1</text>\n</g>\n<!-- 1&#45;&#45;0 -->\n<g id=\"edge8\" class=\"edge\">\n<title>1&#45;&#45;0</title>\n<path fill=\"none\" stroke=\"#c0c0c0\" d=\"M85.7925,-57.2725C86.8721,-76.091 88.9492,-112.2999 90.0322,-131.1789\"/>\n<text text-anchor=\"middle\" x=\"84.9124\" y=\"-96.8257\" font-family=\"monospace\" font-size=\"8.00\" fill=\"#000000\">9</text>\n</g>\n<!-- 2 -->\n<g id=\"node3\" class=\"node\">\n<title>2</title>\n<ellipse fill=\"none\" stroke=\"#ff4500\" cx=\"15.5563\" cy=\"-12.0208\" rx=\"15.6129\" ry=\"12.0417\"/>\n<text text-anchor=\"middle\" x=\"15.5563\" y=\"-10.1208\" font-family=\"monospace\" font-size=\"8.00\" fill=\"#7b68ee\">2</text>\n</g>\n<!-- 1&#45;&#45;2 -->\n<g id=\"edge2\" class=\"edge\">\n<title>1&#45;&#45;2</title>\n<path fill=\"none\" stroke=\"#ffa500\" stroke-width=\"2\" d=\"M71.6936,-38.8427C62.1686,-34.2918 49.152,-28.0726 38.0509,-22.7685\"/>\n<polygon fill=\"#ffa500\" stroke=\"#ffa500\" stroke-width=\"2\" points=\"39.4563,-19.5611 28.9244,-18.408 36.4385,-25.8772 39.4563,-19.5611\"/>\n<text text-anchor=\"middle\" x=\"51.8722\" y=\"-33.4056\" font-family=\"monospace\" font-size=\"8.00\" fill=\"#000000\">2</text>\n</g>\n<!-- 6 -->\n<g id=\"node7\" class=\"node\">\n<title>6</title>\n<ellipse fill=\"none\" stroke=\"#ff4500\" cx=\"143.4485\" cy=\"-66.0921\" rx=\"15.6129\" ry=\"12.0417\"/>\n<text text-anchor=\"middle\" x=\"143.4485\" y=\"-64.1921\" font-family=\"monospace\" font-size=\"8.00\" fill=\"#7b68ee\">6</text>\n</g>\n<!-- 1&#45;&#45;6 -->\n<g id=\"edge9\" class=\"edge\">\n<title>1&#45;&#45;6</title>\n<path fill=\"none\" stroke=\"#c0c0c0\" d=\"M99.2267,-50.295C108.2652,-53.5237 119.9577,-57.7006 129.0493,-60.9483\"/>\n<text text-anchor=\"middle\" x=\"111.138\" y=\"-58.2217\" font-family=\"monospace\" font-size=\"8.00\" fill=\"#000000\">4</text>\n</g>\n<!-- 5 -->\n<g id=\"node6\" class=\"node\">\n<title>5</title>\n<ellipse fill=\"none\" stroke=\"#ff4500\" cx=\"47.2375\" cy=\"-76.6355\" rx=\"15.6129\" ry=\"12.0417\"/>\n<text text-anchor=\"middle\" x=\"47.2375\" y=\"-74.7355\" font-family=\"monospace\" font-size=\"8.00\" fill=\"#7b68ee\">5</text>\n</g>\n<!-- 2&#45;&#45;5 -->\n<g id=\"edge10\" class=\"edge\">\n<title>2&#45;&#45;5</title>\n<path fill=\"none\" stroke=\"#c0c0c0\" d=\"M21.0748,-23.2758C26.8187,-34.9908 35.7699,-53.2469 41.5689,-65.0743\"/>\n<text text-anchor=\"middle\" x=\"28.3219\" y=\"-46.7751\" font-family=\"monospace\" font-size=\"8.00\" fill=\"#000000\">6</text>\n</g>\n<!-- 4&#45;&#45;6 -->\n<g id=\"edge6\" class=\"edge\">\n<title>4&#45;&#45;6</title>\n<path fill=\"none\" stroke=\"#ffa500\" stroke-width=\"2\" d=\"M161.996,-131.2041C158.7051,-119.6513 153.6626,-101.9491 149.6655,-87.9173\"/>\n<polygon fill=\"#ffa500\" stroke=\"#ffa500\" stroke-width=\"2\" points=\"152.9648,-86.7237 146.8591,-78.0652 146.2326,-88.6415 152.9648,-86.7237\"/>\n<text text-anchor=\"middle\" x=\"152.8308\" y=\"-112.1607\" font-family=\"monospace\" font-size=\"8.00\" fill=\"#000000\">8</text>\n</g>\n<!-- 5&#45;&#45;1 -->\n<g id=\"edge1\" class=\"edge\">\n<title>5&#45;&#45;1</title>\n<path fill=\"none\" stroke=\"#ffa500\" stroke-width=\"2\" d=\"M57.9869,-67.7255C60.7281,-65.4533 63.7528,-62.9462 66.7578,-60.4554\"/>\n<polygon fill=\"#ffa500\" stroke=\"#ffa500\" stroke-width=\"2\" points=\"68.9921,-63.1495 74.4576,-54.0732 64.525,-57.7602 68.9921,-63.1495\"/>\n<text text-anchor=\"middle\" x=\"59.3723\" y=\"-57.6905\" font-family=\"monospace\" font-size=\"8.00\" fill=\"#000000\">1</text>\n</g>\n<!-- 5&#45;&#45;3 -->\n<g id=\"edge11\" class=\"edge\">\n<title>5&#45;&#45;3</title>\n<path fill=\"none\" stroke=\"#c0c0c0\" d=\"M42.907,-88.2748C37.907,-101.7136 29.7268,-123.7003 24.6937,-137.2281\"/>\n<text text-anchor=\"middle\" x=\"30.8003\" y=\"-115.3515\" font-family=\"monospace\" font-size=\"8.00\" fill=\"#000000\">9</text>\n</g>\n<!-- 6&#45;&#45;5 -->\n<g id=\"edge5\" class=\"edge\">\n<title>6&#45;&#45;5</title>\n<path fill=\"none\" stroke=\"#ffa500\" stroke-width=\"2\" d=\"M127.9905,-67.786C113.1223,-69.4154 90.376,-71.9081 72.809,-73.8332\"/>\n<polygon fill=\"#ffa500\" stroke=\"#ffa500\" stroke-width=\"2\" points=\"72.2163,-70.3771 62.6571,-74.9457 72.9789,-77.3354 72.2163,-70.3771\"/>\n<text text-anchor=\"middle\" x=\"97.3997\" y=\"-73.4096\" font-family=\"monospace\" font-size=\"8.00\" fill=\"#000000\">3</text>\n</g>\n<!-- 7 -->\n<g id=\"node8\" class=\"node\">\n<title>7</title>\n<ellipse fill=\"none\" stroke=\"#ff4500\" cx=\"203.7746\" cy=\"-14.8114\" rx=\"15.6129\" ry=\"12.0417\"/>\n<text text-anchor=\"middle\" x=\"203.7746\" y=\"-12.9114\" font-family=\"monospace\" font-size=\"8.00\" fill=\"#7b68ee\">7</text>\n</g>\n<!-- 6&#45;&#45;7 -->\n<g id=\"edge7\" class=\"edge\">\n<title>6&#45;&#45;7</title>\n<path fill=\"none\" stroke=\"#ffa500\" stroke-width=\"2\" d=\"M153.9565,-57.1597C162.5868,-49.8234 175.0195,-39.2549 185.3055,-30.5112\"/>\n<polygon fill=\"#ffa500\" stroke=\"#ffa500\" stroke-width=\"2\" points=\"187.6285,-33.1302 192.9808,-23.9867 183.0947,-27.7968 187.6285,-33.1302\"/>\n<text text-anchor=\"middle\" x=\"166.631\" y=\"-46.4354\" font-family=\"monospace\" font-size=\"8.00\" fill=\"#000000\">1</text>\n</g>\n</g>\n</svg>\n"
          },
          "metadata": {},
          "execution_count": 13
        }
      ]
    },
    {
      "cell_type": "code",
      "source": [
        "adjlShow(G, weighted=True, path=path[1], layout=\"neato\")"
      ],
      "metadata": {
        "colab": {
          "base_uri": "https://localhost:8080/",
          "height": 247
        },
        "id": "FSrmbquv1fpK",
        "outputId": "3a46ccd8-fdd6-4819-8f8b-7f43c4e6d124"
      },
      "execution_count": 14,
      "outputs": [
        {
          "output_type": "execute_result",
          "data": {
            "text/plain": [
              "<graphviz.dot.Graph at 0x7fb555a8db10>"
            ],
            "image/svg+xml": "<?xml version=\"1.0\" encoding=\"UTF-8\" standalone=\"no\"?>\n<!DOCTYPE svg PUBLIC \"-//W3C//DTD SVG 1.1//EN\"\n \"http://www.w3.org/Graphics/SVG/1.1/DTD/svg11.dtd\">\n<!-- Generated by graphviz version 2.40.1 (20161225.0304)\n -->\n<!-- Title: G Pages: 1 -->\n<svg width=\"227pt\" height=\"169pt\"\n viewBox=\"0.00 0.00 227.33 169.10\" xmlns=\"http://www.w3.org/2000/svg\" xmlns:xlink=\"http://www.w3.org/1999/xlink\">\n<g id=\"graph0\" class=\"graph\" transform=\"scale(1 1) rotate(0) translate(4 165.1001)\">\n<title>G</title>\n<polygon fill=\"#ffffff\" stroke=\"transparent\" points=\"-4,4 -4,-165.1001 223.3309,-165.1001 223.3309,4 -4,4\"/>\n<!-- 0 -->\n<g id=\"node1\" class=\"node\">\n<title>0</title>\n<ellipse fill=\"none\" stroke=\"#ff4500\" cx=\"90.7275\" cy=\"-143.3001\" rx=\"15.6129\" ry=\"12.0417\"/>\n<text text-anchor=\"middle\" x=\"90.7275\" y=\"-141.4001\" font-family=\"monospace\" font-size=\"8.00\" fill=\"#7b68ee\">0</text>\n</g>\n<!-- 3 -->\n<g id=\"node4\" class=\"node\">\n<title>3</title>\n<ellipse fill=\"none\" stroke=\"#ff4500\" cx=\"20.2844\" cy=\"-149.0793\" rx=\"15.6129\" ry=\"12.0417\"/>\n<text text-anchor=\"middle\" x=\"20.2844\" y=\"-147.1793\" font-family=\"monospace\" font-size=\"8.00\" fill=\"#7b68ee\">3</text>\n</g>\n<!-- 0&#45;&#45;3 -->\n<g id=\"edge3\" class=\"edge\">\n<title>0&#45;&#45;3</title>\n<path fill=\"none\" stroke=\"#ffa500\" stroke-width=\"2\" d=\"M75.0939,-144.5827C66.5211,-145.286 55.6782,-146.1756 45.9036,-146.9775\"/>\n<polygon fill=\"#ffa500\" stroke=\"#ffa500\" stroke-width=\"2\" points=\"45.5546,-143.4943 35.8743,-147.8003 46.1271,-150.4708 45.5546,-143.4943\"/>\n<text text-anchor=\"middle\" x=\"57.4988\" y=\"-148.3801\" font-family=\"monospace\" font-size=\"8.00\" fill=\"#000000\">3</text>\n</g>\n<!-- 4 -->\n<g id=\"node5\" class=\"node\">\n<title>4</title>\n<ellipse fill=\"none\" stroke=\"#ff4500\" cx=\"165.4308\" cy=\"-143.2619\" rx=\"15.6129\" ry=\"12.0417\"/>\n<text text-anchor=\"middle\" x=\"165.4308\" y=\"-141.3619\" font-family=\"monospace\" font-size=\"8.00\" fill=\"#7b68ee\">4</text>\n</g>\n<!-- 0&#45;&#45;4 -->\n<g id=\"edge4\" class=\"edge\">\n<title>0&#45;&#45;4</title>\n<path fill=\"none\" stroke=\"#ffa500\" stroke-width=\"2\" d=\"M106.5702,-143.292C116.1425,-143.2871 128.5737,-143.2807 139.5439,-143.2751\"/>\n<polygon fill=\"#ffa500\" stroke=\"#ffa500\" stroke-width=\"2\" points=\"139.869,-146.7751 149.8671,-143.2698 139.8653,-139.7751 139.869,-146.7751\"/>\n<text text-anchor=\"middle\" x=\"120.0571\" y=\"-145.8836\" font-family=\"monospace\" font-size=\"8.00\" fill=\"#000000\">9</text>\n</g>\n<!-- 1 -->\n<g id=\"node2\" class=\"node\">\n<title>1</title>\n<ellipse fill=\"none\" stroke=\"#ff4500\" cx=\"85.1028\" cy=\"-45.2496\" rx=\"15.6129\" ry=\"12.0417\"/>\n<text text-anchor=\"middle\" x=\"85.1028\" y=\"-43.3496\" font-family=\"monospace\" font-size=\"8.00\" fill=\"#7b68ee\">1</text>\n</g>\n<!-- 1&#45;&#45;0 -->\n<g id=\"edge1\" class=\"edge\">\n<title>1&#45;&#45;0</title>\n<path fill=\"none\" stroke=\"#ffa500\" stroke-width=\"2\" d=\"M85.7925,-57.2725C86.7034,-73.1506 88.3244,-101.4092 89.4593,-121.1925\"/>\n<polygon fill=\"#ffa500\" stroke=\"#ffa500\" stroke-width=\"2\" points=\"85.9651,-121.3958 90.0322,-131.1789 92.9536,-120.9948 85.9651,-121.3958\"/>\n<text text-anchor=\"middle\" x=\"84.6259\" y=\"-91.8325\" font-family=\"monospace\" font-size=\"8.00\" fill=\"#000000\">9</text>\n</g>\n<!-- 2 -->\n<g id=\"node3\" class=\"node\">\n<title>2</title>\n<ellipse fill=\"none\" stroke=\"#ff4500\" cx=\"15.5563\" cy=\"-12.0208\" rx=\"15.6129\" ry=\"12.0417\"/>\n<text text-anchor=\"middle\" x=\"15.5563\" y=\"-10.1208\" font-family=\"monospace\" font-size=\"8.00\" fill=\"#7b68ee\">2</text>\n</g>\n<!-- 1&#45;&#45;2 -->\n<g id=\"edge2\" class=\"edge\">\n<title>1&#45;&#45;2</title>\n<path fill=\"none\" stroke=\"#ffa500\" stroke-width=\"2\" d=\"M71.6936,-38.8427C62.1686,-34.2918 49.152,-28.0726 38.0509,-22.7685\"/>\n<polygon fill=\"#ffa500\" stroke=\"#ffa500\" stroke-width=\"2\" points=\"39.4563,-19.5611 28.9244,-18.408 36.4385,-25.8772 39.4563,-19.5611\"/>\n<text text-anchor=\"middle\" x=\"51.8722\" y=\"-33.4056\" font-family=\"monospace\" font-size=\"8.00\" fill=\"#000000\">2</text>\n</g>\n<!-- 6 -->\n<g id=\"node7\" class=\"node\">\n<title>6</title>\n<ellipse fill=\"none\" stroke=\"#ff4500\" cx=\"143.4485\" cy=\"-66.0921\" rx=\"15.6129\" ry=\"12.0417\"/>\n<text text-anchor=\"middle\" x=\"143.4485\" y=\"-64.1921\" font-family=\"monospace\" font-size=\"8.00\" fill=\"#7b68ee\">6</text>\n</g>\n<!-- 1&#45;&#45;6 -->\n<g id=\"edge6\" class=\"edge\">\n<title>1&#45;&#45;6</title>\n<path fill=\"none\" stroke=\"#ffa500\" stroke-width=\"2\" d=\"M99.2267,-50.295C105.2994,-52.4643 112.5702,-55.0616 119.4453,-57.5175\"/>\n<polygon fill=\"#ffa500\" stroke=\"#ffa500\" stroke-width=\"2\" points=\"118.4547,-60.8802 129.0493,-60.9483 120.8096,-54.2882 118.4547,-60.8802\"/>\n<text text-anchor=\"middle\" x=\"106.336\" y=\"-56.5063\" font-family=\"monospace\" font-size=\"8.00\" fill=\"#000000\">4</text>\n</g>\n<!-- 5 -->\n<g id=\"node6\" class=\"node\">\n<title>5</title>\n<ellipse fill=\"none\" stroke=\"#ff4500\" cx=\"47.2375\" cy=\"-76.6355\" rx=\"15.6129\" ry=\"12.0417\"/>\n<text text-anchor=\"middle\" x=\"47.2375\" y=\"-74.7355\" font-family=\"monospace\" font-size=\"8.00\" fill=\"#7b68ee\">5</text>\n</g>\n<!-- 2&#45;&#45;5 -->\n<g id=\"edge8\" class=\"edge\">\n<title>2&#45;&#45;5</title>\n<path fill=\"none\" stroke=\"#c0c0c0\" d=\"M21.0748,-23.2758C26.8187,-34.9908 35.7699,-53.2469 41.5689,-65.0743\"/>\n<text text-anchor=\"middle\" x=\"28.3219\" y=\"-46.7751\" font-family=\"monospace\" font-size=\"8.00\" fill=\"#000000\">6</text>\n</g>\n<!-- 4&#45;&#45;6 -->\n<g id=\"edge9\" class=\"edge\">\n<title>4&#45;&#45;6</title>\n<path fill=\"none\" stroke=\"#c0c0c0\" d=\"M161.996,-131.2041C157.8663,-116.7065 150.978,-92.5249 146.8591,-78.0652\"/>\n<text text-anchor=\"middle\" x=\"151.4276\" y=\"-107.2346\" font-family=\"monospace\" font-size=\"8.00\" fill=\"#000000\">8</text>\n</g>\n<!-- 5&#45;&#45;1 -->\n<g id=\"edge10\" class=\"edge\">\n<title>5&#45;&#45;1</title>\n<path fill=\"none\" stroke=\"#c0c0c0\" d=\"M57.9869,-67.7255C63.1469,-63.4484 69.3112,-58.339 74.4576,-54.0732\"/>\n<text text-anchor=\"middle\" x=\"63.2222\" y=\"-54.4993\" font-family=\"monospace\" font-size=\"8.00\" fill=\"#000000\">1</text>\n</g>\n<!-- 5&#45;&#45;3 -->\n<g id=\"edge11\" class=\"edge\">\n<title>5&#45;&#45;3</title>\n<path fill=\"none\" stroke=\"#c0c0c0\" d=\"M42.907,-88.2748C37.907,-101.7136 29.7268,-123.7003 24.6937,-137.2281\"/>\n<text text-anchor=\"middle\" x=\"30.8003\" y=\"-115.3515\" font-family=\"monospace\" font-size=\"8.00\" fill=\"#000000\">9</text>\n</g>\n<!-- 6&#45;&#45;5 -->\n<g id=\"edge5\" class=\"edge\">\n<title>6&#45;&#45;5</title>\n<path fill=\"none\" stroke=\"#ffa500\" stroke-width=\"2\" d=\"M127.9905,-67.786C113.1223,-69.4154 90.376,-71.9081 72.809,-73.8332\"/>\n<polygon fill=\"#ffa500\" stroke=\"#ffa500\" stroke-width=\"2\" points=\"72.2163,-70.3771 62.6571,-74.9457 72.9789,-77.3354 72.2163,-70.3771\"/>\n<text text-anchor=\"middle\" x=\"97.3997\" y=\"-73.4096\" font-family=\"monospace\" font-size=\"8.00\" fill=\"#000000\">3</text>\n</g>\n<!-- 7 -->\n<g id=\"node8\" class=\"node\">\n<title>7</title>\n<ellipse fill=\"none\" stroke=\"#ff4500\" cx=\"203.7746\" cy=\"-14.8114\" rx=\"15.6129\" ry=\"12.0417\"/>\n<text text-anchor=\"middle\" x=\"203.7746\" y=\"-12.9114\" font-family=\"monospace\" font-size=\"8.00\" fill=\"#7b68ee\">7</text>\n</g>\n<!-- 6&#45;&#45;7 -->\n<g id=\"edge7\" class=\"edge\">\n<title>6&#45;&#45;7</title>\n<path fill=\"none\" stroke=\"#ffa500\" stroke-width=\"2\" d=\"M153.9565,-57.1597C162.5868,-49.8234 175.0195,-39.2549 185.3055,-30.5112\"/>\n<polygon fill=\"#ffa500\" stroke=\"#ffa500\" stroke-width=\"2\" points=\"187.6285,-33.1302 192.9808,-23.9867 183.0947,-27.7968 187.6285,-33.1302\"/>\n<text text-anchor=\"middle\" x=\"166.631\" y=\"-46.4354\" font-family=\"monospace\" font-size=\"8.00\" fill=\"#000000\">1</text>\n</g>\n</g>\n</svg>\n"
          },
          "metadata": {},
          "execution_count": 14
        }
      ]
    },
    {
      "cell_type": "code",
      "source": [
        "adjlShow(G, weighted=True, path=path[2], layout=\"neato\")"
      ],
      "metadata": {
        "colab": {
          "base_uri": "https://localhost:8080/",
          "height": 247
        },
        "id": "PzQG6YG71hN5",
        "outputId": "df4d41fc-8f2c-4dde-aacb-1974fc301cc1"
      },
      "execution_count": 15,
      "outputs": [
        {
          "output_type": "execute_result",
          "data": {
            "text/plain": [
              "<graphviz.dot.Graph at 0x7fb55095e5d0>"
            ],
            "image/svg+xml": "<?xml version=\"1.0\" encoding=\"UTF-8\" standalone=\"no\"?>\n<!DOCTYPE svg PUBLIC \"-//W3C//DTD SVG 1.1//EN\"\n \"http://www.w3.org/Graphics/SVG/1.1/DTD/svg11.dtd\">\n<!-- Generated by graphviz version 2.40.1 (20161225.0304)\n -->\n<!-- Title: G Pages: 1 -->\n<svg width=\"227pt\" height=\"169pt\"\n viewBox=\"0.00 0.00 227.33 169.10\" xmlns=\"http://www.w3.org/2000/svg\" xmlns:xlink=\"http://www.w3.org/1999/xlink\">\n<g id=\"graph0\" class=\"graph\" transform=\"scale(1 1) rotate(0) translate(4 165.1001)\">\n<title>G</title>\n<polygon fill=\"#ffffff\" stroke=\"transparent\" points=\"-4,4 -4,-165.1001 223.3309,-165.1001 223.3309,4 -4,4\"/>\n<!-- 0 -->\n<g id=\"node1\" class=\"node\">\n<title>0</title>\n<ellipse fill=\"none\" stroke=\"#ff4500\" cx=\"90.7275\" cy=\"-143.3001\" rx=\"15.6129\" ry=\"12.0417\"/>\n<text text-anchor=\"middle\" x=\"90.7275\" y=\"-141.4001\" font-family=\"monospace\" font-size=\"8.00\" fill=\"#7b68ee\">0</text>\n</g>\n<!-- 3 -->\n<g id=\"node4\" class=\"node\">\n<title>3</title>\n<ellipse fill=\"none\" stroke=\"#ff4500\" cx=\"20.2844\" cy=\"-149.0793\" rx=\"15.6129\" ry=\"12.0417\"/>\n<text text-anchor=\"middle\" x=\"20.2844\" y=\"-147.1793\" font-family=\"monospace\" font-size=\"8.00\" fill=\"#7b68ee\">3</text>\n</g>\n<!-- 0&#45;&#45;3 -->\n<g id=\"edge8\" class=\"edge\">\n<title>0&#45;&#45;3</title>\n<path fill=\"none\" stroke=\"#c0c0c0\" d=\"M75.0939,-144.5827C63.4203,-145.5404 47.5374,-146.8434 35.8743,-147.8003\"/>\n<text text-anchor=\"middle\" x=\"52.4841\" y=\"-148.7915\" font-family=\"monospace\" font-size=\"8.00\" fill=\"#000000\">3</text>\n</g>\n<!-- 4 -->\n<g id=\"node5\" class=\"node\">\n<title>4</title>\n<ellipse fill=\"none\" stroke=\"#ff4500\" cx=\"165.4308\" cy=\"-143.2619\" rx=\"15.6129\" ry=\"12.0417\"/>\n<text text-anchor=\"middle\" x=\"165.4308\" y=\"-141.3619\" font-family=\"monospace\" font-size=\"8.00\" fill=\"#7b68ee\">4</text>\n</g>\n<!-- 0&#45;&#45;4 -->\n<g id=\"edge4\" class=\"edge\">\n<title>0&#45;&#45;4</title>\n<path fill=\"none\" stroke=\"#ffa500\" stroke-width=\"2\" d=\"M106.5702,-143.292C116.1425,-143.2871 128.5737,-143.2807 139.5439,-143.2751\"/>\n<polygon fill=\"#ffa500\" stroke=\"#ffa500\" stroke-width=\"2\" points=\"139.869,-146.7751 149.8671,-143.2698 139.8653,-139.7751 139.869,-146.7751\"/>\n<text text-anchor=\"middle\" x=\"120.0571\" y=\"-145.8836\" font-family=\"monospace\" font-size=\"8.00\" fill=\"#000000\">9</text>\n</g>\n<!-- 1 -->\n<g id=\"node2\" class=\"node\">\n<title>1</title>\n<ellipse fill=\"none\" stroke=\"#ff4500\" cx=\"85.1028\" cy=\"-45.2496\" rx=\"15.6129\" ry=\"12.0417\"/>\n<text text-anchor=\"middle\" x=\"85.1028\" y=\"-43.3496\" font-family=\"monospace\" font-size=\"8.00\" fill=\"#7b68ee\">1</text>\n</g>\n<!-- 1&#45;&#45;0 -->\n<g id=\"edge1\" class=\"edge\">\n<title>1&#45;&#45;0</title>\n<path fill=\"none\" stroke=\"#ffa500\" stroke-width=\"2\" d=\"M85.7925,-57.2725C86.7034,-73.1506 88.3244,-101.4092 89.4593,-121.1925\"/>\n<polygon fill=\"#ffa500\" stroke=\"#ffa500\" stroke-width=\"2\" points=\"85.9651,-121.3958 90.0322,-131.1789 92.9536,-120.9948 85.9651,-121.3958\"/>\n<text text-anchor=\"middle\" x=\"84.6259\" y=\"-91.8325\" font-family=\"monospace\" font-size=\"8.00\" fill=\"#000000\">9</text>\n</g>\n<!-- 6 -->\n<g id=\"node7\" class=\"node\">\n<title>6</title>\n<ellipse fill=\"none\" stroke=\"#ff4500\" cx=\"143.4485\" cy=\"-66.0921\" rx=\"15.6129\" ry=\"12.0417\"/>\n<text text-anchor=\"middle\" x=\"143.4485\" y=\"-64.1921\" font-family=\"monospace\" font-size=\"8.00\" fill=\"#7b68ee\">6</text>\n</g>\n<!-- 1&#45;&#45;6 -->\n<g id=\"edge6\" class=\"edge\">\n<title>1&#45;&#45;6</title>\n<path fill=\"none\" stroke=\"#ffa500\" stroke-width=\"2\" d=\"M99.2267,-50.295C105.2994,-52.4643 112.5702,-55.0616 119.4453,-57.5175\"/>\n<polygon fill=\"#ffa500\" stroke=\"#ffa500\" stroke-width=\"2\" points=\"118.4547,-60.8802 129.0493,-60.9483 120.8096,-54.2882 118.4547,-60.8802\"/>\n<text text-anchor=\"middle\" x=\"106.336\" y=\"-56.5063\" font-family=\"monospace\" font-size=\"8.00\" fill=\"#000000\">4</text>\n</g>\n<!-- 2 -->\n<g id=\"node3\" class=\"node\">\n<title>2</title>\n<ellipse fill=\"none\" stroke=\"#ff4500\" cx=\"15.5563\" cy=\"-12.0208\" rx=\"15.6129\" ry=\"12.0417\"/>\n<text text-anchor=\"middle\" x=\"15.5563\" y=\"-10.1208\" font-family=\"monospace\" font-size=\"8.00\" fill=\"#7b68ee\">2</text>\n</g>\n<!-- 2&#45;&#45;1 -->\n<g id=\"edge2\" class=\"edge\">\n<title>2&#45;&#45;1</title>\n<path fill=\"none\" stroke=\"#ffa500\" stroke-width=\"2\" d=\"M28.9656,-18.4277C38.4906,-22.9786 51.5072,-29.1978 62.6082,-34.5018\"/>\n<polygon fill=\"#ffa500\" stroke=\"#ffa500\" stroke-width=\"2\" points=\"61.2028,-37.7093 71.7347,-38.8624 64.2206,-31.3932 61.2028,-37.7093\"/>\n<text text-anchor=\"middle\" x=\"42.7869\" y=\"-29.0647\" font-family=\"monospace\" font-size=\"8.00\" fill=\"#000000\">4</text>\n</g>\n<!-- 5 -->\n<g id=\"node6\" class=\"node\">\n<title>5</title>\n<ellipse fill=\"none\" stroke=\"#ff4500\" cx=\"47.2375\" cy=\"-76.6355\" rx=\"15.6129\" ry=\"12.0417\"/>\n<text text-anchor=\"middle\" x=\"47.2375\" y=\"-74.7355\" font-family=\"monospace\" font-size=\"8.00\" fill=\"#7b68ee\">5</text>\n</g>\n<!-- 2&#45;&#45;5 -->\n<g id=\"edge5\" class=\"edge\">\n<title>2&#45;&#45;5</title>\n<path fill=\"none\" stroke=\"#ffa500\" stroke-width=\"2\" d=\"M21.0748,-23.2758C25.4725,-32.2451 31.7502,-45.0487 37.0539,-55.8658\"/>\n<polygon fill=\"#ffa500\" stroke=\"#ffa500\" stroke-width=\"2\" points=\"34.0239,-57.6364 41.5689,-65.0743 40.3091,-54.5547 34.0239,-57.6364\"/>\n<text text-anchor=\"middle\" x=\"26.0643\" y=\"-42.1708\" font-family=\"monospace\" font-size=\"8.00\" fill=\"#000000\">6</text>\n</g>\n<!-- 4&#45;&#45;6 -->\n<g id=\"edge9\" class=\"edge\">\n<title>4&#45;&#45;6</title>\n<path fill=\"none\" stroke=\"#c0c0c0\" d=\"M161.996,-131.2041C157.8663,-116.7065 150.978,-92.5249 146.8591,-78.0652\"/>\n<text text-anchor=\"middle\" x=\"151.4276\" y=\"-107.2346\" font-family=\"monospace\" font-size=\"8.00\" fill=\"#000000\">8</text>\n</g>\n<!-- 5&#45;&#45;1 -->\n<g id=\"edge10\" class=\"edge\">\n<title>5&#45;&#45;1</title>\n<path fill=\"none\" stroke=\"#c0c0c0\" d=\"M57.9869,-67.7255C63.1469,-63.4484 69.3112,-58.339 74.4576,-54.0732\"/>\n<text text-anchor=\"middle\" x=\"63.2222\" y=\"-54.4993\" font-family=\"monospace\" font-size=\"8.00\" fill=\"#000000\">1</text>\n</g>\n<!-- 5&#45;&#45;3 -->\n<g id=\"edge3\" class=\"edge\">\n<title>5&#45;&#45;3</title>\n<path fill=\"none\" stroke=\"#ffa500\" stroke-width=\"2\" d=\"M42.907,-88.2748C38.9617,-98.8789 33.0363,-114.805 28.2394,-127.698\"/>\n<polygon fill=\"#ffa500\" stroke=\"#ffa500\" stroke-width=\"2\" points=\"24.9005,-126.6353 24.6937,-137.2281 31.4611,-129.0763 24.9005,-126.6353\"/>\n<text text-anchor=\"middle\" x=\"32.5732\" y=\"-110.5864\" font-family=\"monospace\" font-size=\"8.00\" fill=\"#000000\">9</text>\n</g>\n<!-- 6&#45;&#45;5 -->\n<g id=\"edge11\" class=\"edge\">\n<title>6&#45;&#45;5</title>\n<path fill=\"none\" stroke=\"#c0c0c0\" d=\"M127.9905,-67.786C110.0365,-69.7536 80.5947,-72.98 62.6571,-74.9457\"/>\n<text text-anchor=\"middle\" x=\"92.3238\" y=\"-73.9659\" font-family=\"monospace\" font-size=\"8.00\" fill=\"#000000\">3</text>\n</g>\n<!-- 7 -->\n<g id=\"node8\" class=\"node\">\n<title>7</title>\n<ellipse fill=\"none\" stroke=\"#ff4500\" cx=\"203.7746\" cy=\"-14.8114\" rx=\"15.6129\" ry=\"12.0417\"/>\n<text text-anchor=\"middle\" x=\"203.7746\" y=\"-12.9114\" font-family=\"monospace\" font-size=\"8.00\" fill=\"#7b68ee\">7</text>\n</g>\n<!-- 6&#45;&#45;7 -->\n<g id=\"edge7\" class=\"edge\">\n<title>6&#45;&#45;7</title>\n<path fill=\"none\" stroke=\"#ffa500\" stroke-width=\"2\" d=\"M153.9565,-57.1597C162.5868,-49.8234 175.0195,-39.2549 185.3055,-30.5112\"/>\n<polygon fill=\"#ffa500\" stroke=\"#ffa500\" stroke-width=\"2\" points=\"187.6285,-33.1302 192.9808,-23.9867 183.0947,-27.7968 187.6285,-33.1302\"/>\n<text text-anchor=\"middle\" x=\"166.631\" y=\"-46.4354\" font-family=\"monospace\" font-size=\"8.00\" fill=\"#000000\">1</text>\n</g>\n</g>\n</svg>\n"
          },
          "metadata": {},
          "execution_count": 15
        }
      ]
    },
    {
      "cell_type": "code",
      "source": [
        ""
      ],
      "metadata": {
        "id": "5J3fi5Pp1kUr"
      },
      "execution_count": null,
      "outputs": []
    }
  ]
}